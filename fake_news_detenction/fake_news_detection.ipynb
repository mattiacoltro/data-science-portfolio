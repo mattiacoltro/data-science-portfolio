{
 "cells": [
  {
   "cell_type": "markdown",
   "id": "9f57d8db",
   "metadata": {},
   "source": [
    "# Fake News Detection\n",
    "\n",
    "## Project description\n",
    "\n",
    "The goal is to develop a Machine Learning model that can detect fake news with accuracy. The model will be integrated into the Chrome plug-in and will provide users with a real-time indication of the veracity of the news they are reading.\n",
    "\n",
    "Two [dataset](https://proai-datasets.s3.eu-west-3.amazonaws.com/fake_news.zip) are given:\n",
    "1. Real news \n",
    "2. Fake news\n",
    "\n",
    "Questions to analyze:\n",
    "1. Are fake news more frequent in a particular category?\n",
    "2. Are there topics that are more prone to fake news?\n",
    "3. Do fake news headlines exhibit recurring patterns?\n",
    "\n",
    "ML Model\n",
    "\n",
    "- The model will be developed using Natural Language Processing (NLP) and Machine Learning techniques.\n",
    "- It will be trained with true and fake news datasets to recognize text patterns associated with untrue news. Relevant features, such as headlines, keywords and categories of news will be analyzed.\n",
    "- Performance metrics (e.g., accuracy, precision, recall) will be used to evaluate the effectiveness of the model.\n",
    "- Optimization techniques will be applied to improve the ability of fake news recognition.\n",
    "- Once training is complete, the model will be exported to pickle format for implementation.\n",
    "- The Machine Learning Engineer and Web Developer team will integrate the model into the Chrome plug-in."
   ]
  },
  {
   "cell_type": "markdown",
   "id": "d365f0fc",
   "metadata": {},
   "source": [
    "# Import"
   ]
  },
  {
   "cell_type": "code",
   "execution_count": 63,
   "id": "108a9eb6",
   "metadata": {},
   "outputs": [],
   "source": [
    "import pandas as pd\n",
    "import numpy as np\n",
    "import matplotlib.pyplot as plt\n",
    "from matplotlib.patches import Patch\n",
    "import seaborn as sns\n",
    "from tqdm import tqdm\n",
    "import time\n",
    "import joblib\n",
    "import random\n",
    "\n",
    "# nlp import\n",
    "import gensim\n",
    "from gensim.utils import simple_preprocess\n",
    "from gensim import corpora, models\n",
    "from bertopic import BERTopic\n",
    "\n",
    "import nltk\n",
    "from nltk.stem import WordNetLemmatizer\n",
    "from nltk.corpus import stopwords\n",
    "\n",
    "import spacy\n",
    "import spacy.displacy as displacy\n",
    "import re\n",
    "\n",
    "from pprint import pprint\n",
    "\n",
    "# models \n",
    "from sklearn.neural_network import MLPClassifier\n",
    "from sklearn.cluster import KMeans\n",
    "from sklearn.linear_model import LogisticRegression \n",
    "from sklearn.naive_bayes import MultinomialNB\n",
    "from sklearn.ensemble import RandomForestClassifier\n",
    "import xgboost as xgb\n",
    "from lightgbm import LGBMClassifier\n",
    "\n",
    "from sklearn.feature_extraction.text import TfidfVectorizer\n",
    "from sklearn.preprocessing import MaxAbsScaler\n",
    "from sklearn.pipeline import Pipeline\n",
    "from sklearn.compose import ColumnTransformer\n",
    "from sklearn.base import BaseEstimator, TransformerMixin\n",
    "from sklearn.model_selection import train_test_split, cross_val_score, StratifiedKFold, GridSearchCV, cross_validate\n",
    "\n",
    "from sklearn.metrics import confusion_matrix, ConfusionMatrixDisplay\n",
    "from sklearn.metrics import accuracy_score, f1_score, recall_score, precision_score, roc_auc_score, classification_report, make_scorer\n"
   ]
  },
  {
   "cell_type": "code",
   "execution_count": 64,
   "id": "cb332454",
   "metadata": {},
   "outputs": [
    {
     "name": "stderr",
     "output_type": "stream",
     "text": [
      "[nltk_data] Downloading package stopwords to\n",
      "[nltk_data]     C:\\Users\\Tia\\AppData\\Roaming\\nltk_data...\n",
      "[nltk_data]   Package stopwords is already up-to-date!\n",
      "[nltk_data] Downloading package wordnet to\n",
      "[nltk_data]     C:\\Users\\Tia\\AppData\\Roaming\\nltk_data...\n",
      "[nltk_data]   Package wordnet is already up-to-date!\n"
     ]
    },
    {
     "name": "stdout",
     "output_type": "stream",
     "text": [
      "Collecting en-core-web-sm==3.8.0\n",
      "  Downloading https://github.com/explosion/spacy-models/releases/download/en_core_web_sm-3.8.0/en_core_web_sm-3.8.0-py3-none-any.whl (12.8 MB)\n",
      "     ---------------------------------------- 0.0/12.8 MB ? eta -:--:--\n",
      "     - -------------------------------------- 0.5/12.8 MB 8.5 MB/s eta 0:00:02\n",
      "     ----- ---------------------------------- 1.8/12.8 MB 6.3 MB/s eta 0:00:02\n",
      "     ---------- ----------------------------- 3.4/12.8 MB 6.7 MB/s eta 0:00:02\n",
      "     ----------------- ---------------------- 5.5/12.8 MB 7.6 MB/s eta 0:00:01\n",
      "     ---------------------- ----------------- 7.1/12.8 MB 7.7 MB/s eta 0:00:01\n",
      "     --------------------------- ------------ 8.9/12.8 MB 7.8 MB/s eta 0:00:01\n",
      "     -------------------------------- ------- 10.5/12.8 MB 7.9 MB/s eta 0:00:01\n",
      "     -------------------------------------- - 12.3/12.8 MB 7.8 MB/s eta 0:00:01\n",
      "     ---------------------------------------- 12.8/12.8 MB 7.4 MB/s eta 0:00:00\n",
      "\u001b[38;5;2m✔ Download and installation successful\u001b[0m\n",
      "You can now load the package via spacy.load('en_core_web_sm')\n"
     ]
    },
    {
     "name": "stderr",
     "output_type": "stream",
     "text": [
      "\n",
      "[notice] A new release of pip is available: 24.2 -> 25.2\n",
      "[notice] To update, run: python.exe -m pip install --upgrade pip\n",
      "[nltk_data] Downloading package vader_lexicon to data...\n",
      "[nltk_data]   Package vader_lexicon is already up-to-date!\n"
     ]
    },
    {
     "data": {
      "text/plain": [
       "True"
      ]
     },
     "execution_count": 64,
     "metadata": {},
     "output_type": "execute_result"
    }
   ],
   "source": [
    "#download\n",
    "nltk.download('stopwords')\n",
    "nltk.download('wordnet')\n",
    "!python -m spacy download en_core_web_sm\n",
    "nltk.download(\"vader_lexicon\", download_dir=\"data\")"
   ]
  },
  {
   "cell_type": "code",
   "execution_count": 65,
   "id": "8ea36267",
   "metadata": {},
   "outputs": [],
   "source": [
    "# system variables\n",
    "stop_words = stopwords.words('english')\n",
    "random_seed = 0"
   ]
  },
  {
   "cell_type": "markdown",
   "id": "6b2ffffc",
   "metadata": {},
   "source": [
    "# Functions"
   ]
  },
  {
   "cell_type": "code",
   "execution_count": 66,
   "id": "0ea3a7b9",
   "metadata": {},
   "outputs": [],
   "source": [
    "def get_n_colors(n):\n",
    "    # review da cancellare se non usata\n",
    "    '''\n",
    "    Return a list of n colors\n",
    "    '''\n",
    "    cmap = plt.get_cmap('tab10')\n",
    "    colors = [cmap(i) for i in range(n)]\n",
    "    return colors"
   ]
  },
  {
   "cell_type": "code",
   "execution_count": 67,
   "id": "d62fff23",
   "metadata": {},
   "outputs": [],
   "source": [
    "def plot_group_by_topic(df, topic, count_col, palette=None, barh=True, percentage=False, r=False):\n",
    "    #review da cancellare se non usata\n",
    "    '''\n",
    "    Show an horizontal bar plot grouping by topic\n",
    "    y axis shows the subdivision of every topic for subject, label\n",
    "    Return the df created for the plot\n",
    "    Assumed a pd.DataFrame structure \n",
    "    \n",
    "    variables: \n",
    "        topic, count_col -> str\n",
    "        palette -> dict (according with topic)\n",
    "        barh -> True (default) if horizontal bar plot\n",
    "        r -> True if want the plot df in return\n",
    "    '''\n",
    "    \n",
    "    if not palette:\n",
    "        # if palette not given is set here\n",
    "        topics = df[topic].unique()\n",
    "        colors = get_n_colors(len(topics))\n",
    "        palette = dict(zip(topics, colors))\n",
    "    \n",
    "    \n",
    "    count_df = df.groupby(by=[topic, count_col]).size().to_frame(name='count')\n",
    "    count_df['color'] = count_df.index.get_level_values(topic).map(palette)\n",
    "    count_df['percent'] = count_df.groupby(level=0)['count'].transform(lambda x: 100 * x / x.sum())\n",
    "\n",
    "    plot_col = str(topic+'_'+count_col)\n",
    "    count_df[plot_col] = (\n",
    "        count_df.index.get_level_values(topic).astype(str)\n",
    "        + '_' +\n",
    "        count_df.index.get_level_values(count_col).astype(str)\n",
    "    )\n",
    "    \n",
    "    plt.figure(figsize=(10, 6))\n",
    "    if barh:\n",
    "        bars = plt.barh(count_df[plot_col], count_df['count'], color=count_df['color'])\n",
    "        if percentage:\n",
    "            for i, (bar, pct) in enumerate(zip(bars, count_df['percent'])):\n",
    "                plt.text(bar.get_width() + 1, bar.get_y() + bar.get_height() / 2, f'{pct:.1f}%', va='center')\n",
    "    else:\n",
    "        bars = plt.bar(count_df[plot_col], count_df['count'], color=count_df['color'])\n",
    "        plt.xticks(rotation=90)\n",
    "        if percentage:\n",
    "            for i, (bar, pct) in enumerate(zip(bars, count_df['percent'])):\n",
    "                plt.text(bar.get_x() + bar.get_width() / 2, bar.get_height() + 0.5, f'{pct:.1f}%', ha='center')\n",
    "\n",
    "    plt.ylabel(\"Frequency\")\n",
    "    plt.title(str(\"Distribution of \"+plot_col))\n",
    "    plt.tight_layout()\n",
    "    plt.show()\n",
    "    \n",
    "    if r:\n",
    "        return count_df\n",
    "    else:\n",
    "        return None"
   ]
  },
  {
   "cell_type": "code",
   "execution_count": 68,
   "id": "2681e169",
   "metadata": {},
   "outputs": [],
   "source": [
    "def fake_real_distribution_entity(df, target, search_col):\n",
    "\n",
    "    df_word = df.copy()\n",
    "    df_word['target_count'] = df_word[search_col].str.count(target)\n",
    "\n",
    "    grouped = df_word.groupby(['target_count', 'label']).size().unstack(fill_value=0)\n",
    "    res_1 = grouped.reset_index().rename_axis(None, axis=1)\n",
    "    res_1['fake_pct'] = res_1['fake'] / (res_1['fake'] + res_1['real']) * 100\n",
    "\n",
    "    res_2 = df_word.groupby('label')['target_count'].sum().reset_index()\n",
    "\n",
    "    return (res_1, res_2)"
   ]
  },
  {
   "cell_type": "code",
   "execution_count": 69,
   "id": "54a8b512",
   "metadata": {},
   "outputs": [],
   "source": [
    "from matplotlib.ticker import MaxNLocator\n",
    "#review\n",
    "def plot_distribution_entity(df, target, search_col, division=True):\n",
    "    df_12, df3 = fake_real_distribution_entity(df, target, search_col)\n",
    "\n",
    "    # divide the plot in 2 chart -> scale motivation\n",
    "    midpoint = len(df_12) // 2\n",
    "    df1 = df_12.iloc[:midpoint] \n",
    "    df2 = df_12.iloc[midpoint:]\n",
    "    fig, axes = plt.subplots(1, 3, figsize=(15,5))\n",
    "\n",
    "    if division:\n",
    "        axes[0].bar(df1['target_count'], df1['real'], label='Real')\n",
    "        axes[0].bar(df1['target_count'], df1['fake'], bottom=df1['real'], label='Fake')\n",
    "        for i, row in df1.iterrows():\n",
    "            total = row['fake'] + row['real']\n",
    "            x = row['target_count']\n",
    "            y = total + 1\n",
    "            label = f\"{row['fake_pct']:.1f}%\"\n",
    "            axes[0].text(x, y, label, fontsize=10 ,ha='center', rotation=90)\n",
    "        axes[0].set_xlabel(f\"Occurrences of the {target} entity\")\n",
    "        axes[0].set_ylabel('Articles number')\n",
    "        axes[0].legend()\n",
    "\n",
    "\n",
    "        axes[1].bar(df2['target_count'], df2['real'], label='Real')\n",
    "        axes[1].bar(df2['target_count'], df2['fake'], bottom=df2['real'], label='Fake')\n",
    "        for i, row in df2.iterrows():\n",
    "            total = row['fake'] + row['real']\n",
    "            x = row['target_count']\n",
    "            y = total + 1\n",
    "            label = f\"{row['fake_pct']:.1f}%\"\n",
    "            axes[1].text(x, y, label, fontsize=10, rotation=90, ha='center')\n",
    "        axes[1].set_xlabel(f\"Occurrences of the {target} entity\")\n",
    "        axes[1].set_ylabel('Articles number')\n",
    "        axes[1].legend()\n",
    "    else:\n",
    "        axes[0].bar(df_12['target_count'], df_12['real'], label='Real')\n",
    "        axes[0].bar(df_12['target_count'], df_12['fake'], bottom=df_12['real'], label='Fake')\n",
    "        for i, row in df_12.iterrows():\n",
    "            total = row['fake'] + row['real']\n",
    "            x = row['target_count']\n",
    "            y = total + 1\n",
    "            label = f\"{row['fake_pct']:.1f}%\"\n",
    "            axes[0].text(x, y, label, fontsize=10 ,ha='center', rotation=90)\n",
    "        axes[0].xaxis.set_major_locator(MaxNLocator(integer=True))\n",
    "        axes[0].set_xlabel(f\"Occurrences of the {target} entity\")\n",
    "        axes[0].set_ylabel('Articles number')\n",
    "        axes[0].legend()\n",
    "\n",
    "    axes[2].bar(df3['label'],df3['target_count'])\n",
    "    total = df3['target_count'].sum()\n",
    "    for i, row in df3.iterrows():\n",
    "        y = row['target_count'] + 1  \n",
    "        label = f\"{(row['target_count']/total)*100:.1f}%\"\n",
    "        axes[2].text(i, y, label, fontsize=12, ha='center')\n",
    "    \n",
    "    fig.suptitle(f\"Distribution of {target} entity\", fontsize=16)\n",
    "    plt.tight_layout()\n",
    "    plt.show()"
   ]
  },
  {
   "cell_type": "code",
   "execution_count": 70,
   "id": "36059ad6",
   "metadata": {},
   "outputs": [],
   "source": [
    "def preprocess(text):\n",
    "    '''\n",
    "    Text preprocess: lowercase, puctuation removal, tokenization, stopwords removal, lemmatization\n",
    "    Return final tokens\n",
    "    '''\n",
    "    lemmatizer = WordNetLemmatizer()\n",
    "    tokens = simple_preprocess(text, deacc=True, min_len=3)  # lowercase, punctuation removal, tokenization \n",
    "    tokens = [t for t in tokens if t not in stop_words]      # remove stop words\n",
    "    tokens = [lemmatizer.lemmatize(t) for t in tokens]       # lemmatization\n",
    "    return tokens"
   ]
  },
  {
   "cell_type": "code",
   "execution_count": 71,
   "id": "796c9abd",
   "metadata": {},
   "outputs": [],
   "source": [
    "def make_pipeline(name, model, scaler, vectorizer, preprocessor, random_seed=0):\n",
    "    '''\n",
    "    Return a pipeline based on the input received\n",
    "    '''\n",
    "    steps = []\n",
    "    steps.append(('preprocessing', preprocessor))     \n",
    "    steps.append(('vetorizer', vectorizer))\n",
    "    steps.append(('scaler', scaler))\n",
    "    steps.append((name, model))\n",
    "    return Pipeline(steps=steps)"
   ]
  },
  {
   "cell_type": "code",
   "execution_count": 72,
   "id": "74901318",
   "metadata": {},
   "outputs": [],
   "source": [
    "def get_performance_metrics(y_test, y_pred, y_proba, name_model, label=1, conf=False):\n",
    "    '''\n",
    "    Return a dict with the metrics of the ML model\n",
    "    '''\n",
    "    \n",
    "    result = {\n",
    "        'Model': name_model,\n",
    "        'Accuracy': accuracy_score(y_test, y_pred),\n",
    "        'Precision': precision_score(y_test, y_pred, pos_label=label),\n",
    "        'Recall': recall_score(y_test, y_pred, pos_label=label),\n",
    "        'F1 Score': f1_score(y_test, y_pred, pos_label=label),\n",
    "        'ROC_AUC': roc_auc_score(y_test, y_proba)\n",
    "        }\n",
    "    if conf:\n",
    "        class_names = ['Real', 'Fake']\n",
    "        cm = confusion_matrix(y_test, y_pred)\n",
    "        disp = ConfusionMatrixDisplay(confusion_matrix=cm, display_labels=class_names)\n",
    "        disp.plot(cmap=plt.cm.Blues)\n",
    "        plt.show()\n",
    "    return result"
   ]
  },
  {
   "cell_type": "code",
   "execution_count": 73,
   "id": "aabc9ada",
   "metadata": {},
   "outputs": [],
   "source": [
    "class TextPreprocessor(BaseEstimator, TransformerMixin):\n",
    "    def __init__(self, output='string'):\n",
    "        \"\"\"\n",
    "        output: 'string' → return a string (for TF-IDF)\n",
    "                'tokens' → return a list of tokens (for Word2Vec)\n",
    "        \"\"\"\n",
    "        self.output = output\n",
    "\n",
    "    def fit(self, X, y=None):\n",
    "        return self\n",
    "\n",
    "    def transform(self, X):\n",
    "        from nltk.corpus import stopwords\n",
    "        from nltk.stem import WordNetLemmatizer\n",
    "        stop_words = set(stopwords.words('english'))\n",
    "        lemmatizer = WordNetLemmatizer()\n",
    "        \n",
    "        def preprocess(text):\n",
    "            tokens = simple_preprocess(text, deacc=True, min_len=3)\n",
    "            tokens = [t for t in tokens if t not in stop_words]\n",
    "            tokens = [lemmatizer.lemmatize(t) for t in tokens]\n",
    "            if self.output == 'string':\n",
    "                return ' '.join(tokens)\n",
    "            elif self.output == 'tokens':\n",
    "                return tokens\n",
    "            else:\n",
    "                raise ValueError(\"output must be 'string' or 'tokens'\")\n",
    "\n",
    "        return X.apply(preprocess)"
   ]
  },
  {
   "cell_type": "code",
   "execution_count": 74,
   "id": "9c3eabf3",
   "metadata": {},
   "outputs": [],
   "source": [
    "def extract_params(param_list, name_model):\n",
    "    '''\n",
    "    Extract the model prameters from a list of tuples built as (name, model, scaler)\n",
    "    return the pram tuple matching with the name of the model otherwise a None tuple\n",
    "    '''\n",
    "    for i in range(0,len(param_list)):\n",
    "        if param_list[i][0]==name_model:\n",
    "            return param_list[i]\n",
    "    return (None, None, None)"
   ]
  },
  {
   "cell_type": "code",
   "execution_count": 75,
   "id": "155c5843",
   "metadata": {},
   "outputs": [],
   "source": [
    "def evaluate_model(name, pipeline, X, y, cv, scoring):\n",
    "    results = cross_validate(pipeline, X, y, cv=cv, scoring=scoring, n_jobs=-1, return_train_score=False)\n",
    "    summary = {\n",
    "        'Model': name,\n",
    "        'Accuracy Mean': results['test_accuracy'].mean(),\n",
    "        'Accuracy Std': results['test_accuracy'].std(),\n",
    "        'F1 Mean': results['test_f1'].mean(),\n",
    "        'F1 Std': results['test_f1'].std(),\n",
    "        'ROC AUC Mean': results['test_roc_auc'].mean(),\n",
    "        'ROC AUC Std': results['test_roc_auc'].std(),\n",
    "        'Fit Time Mean (s)': results['fit_time'].mean(),\n",
    "        'Fit Time Std (s)': results['fit_time'].std(),\n",
    "        'Score Time Mean (s)': results['score_time'].mean(),\n",
    "        'Score Time Std (s)': results['score_time'].std()\n",
    "    }\n",
    "    return summary"
   ]
  },
  {
   "cell_type": "markdown",
   "id": "d5724e04",
   "metadata": {},
   "source": [
    "# Load Dataset"
   ]
  },
  {
   "cell_type": "code",
   "execution_count": 76,
   "id": "effeaad7",
   "metadata": {},
   "outputs": [],
   "source": [
    "link_dataset = \"https://proai-datasets.s3.eu-west-3.amazonaws.com/fake_news.zip\"\n",
    "# fare il odwnload direttamente dal link\n",
    "#review\n",
    "\n",
    "path_folder = \"fake_news_dataset\"\n",
    "true_news = pd.read_csv(path_folder+\"/True.csv\")\n",
    "fake_news = pd.read_csv(path_folder+\"/Fake.csv\")\n",
    "\n",
    "# Aggiungi etichetta\n",
    "true_news['label'] = 'real'\n",
    "fake_news['label'] = 'fake'\n",
    "\n",
    "# Unisci\n",
    "df = pd.concat([true_news, fake_news])\n",
    "df = df.reset_index()"
   ]
  },
  {
   "cell_type": "markdown",
   "id": "963e3d0b",
   "metadata": {},
   "source": [
    "# EDA"
   ]
  },
  {
   "cell_type": "code",
   "execution_count": null,
   "id": "e0eca58d",
   "metadata": {},
   "outputs": [],
   "source": [
    "true_news.head(10)"
   ]
  },
  {
   "cell_type": "code",
   "execution_count": null,
   "id": "2d145308",
   "metadata": {},
   "outputs": [],
   "source": [
    "true_news.info()"
   ]
  },
  {
   "cell_type": "code",
   "execution_count": null,
   "id": "93b5b4d9",
   "metadata": {},
   "outputs": [],
   "source": [
    "fake_news.head(10)"
   ]
  },
  {
   "cell_type": "code",
   "execution_count": null,
   "id": "7a10a396",
   "metadata": {},
   "outputs": [],
   "source": [
    "fake_news.info()"
   ]
  },
  {
   "cell_type": "markdown",
   "id": "55047040",
   "metadata": {},
   "source": [
    "The 2 dataset are balanced"
   ]
  },
  {
   "cell_type": "code",
   "execution_count": null,
   "id": "752f0596",
   "metadata": {},
   "outputs": [],
   "source": [
    "display(true_news['subject'].value_counts())\n",
    "true_news['subject'].value_counts().plot.bar(ylabel='value_count', title='Real news category division')"
   ]
  },
  {
   "cell_type": "code",
   "execution_count": null,
   "id": "cd98c48f",
   "metadata": {},
   "outputs": [],
   "source": [
    "display(fake_news['subject'].value_counts())\n",
    "fake_news['subject'].value_counts().plot.bar(ylabel='value_count', title='Fake news category division')"
   ]
  },
  {
   "cell_type": "markdown",
   "id": "e895fe05",
   "metadata": {},
   "source": [
    "1. Are fake news more frequent in a particular category?\n",
    "2. Are there topics that are more prone to fake news?\n",
    "\n",
    "\n",
    "From the previous bar chart we can observe that the subject *News*, *politics* and *left-news* are far more frequent than the *Governament News* *US_News* *Middle-east* (especialy the first 2 categories).\n",
    "\n",
    "\n",
    "Trying answering the questions I can't consider the subjects given in the raw data because are not consisten between real news dataset and fake news dataset, so it's used the topic modeling to answer the first 2 questions."
   ]
  },
  {
   "cell_type": "markdown",
   "id": "7bb660e2",
   "metadata": {},
   "source": [
    "## Text size analysis "
   ]
  },
  {
   "cell_type": "markdown",
   "id": "d6affc8c",
   "metadata": {},
   "source": [
    "look at\n",
    "\n",
    "https://medium.com/@camilolgon/fake-news-detection-using-machine-learning-90ba8088fbd0"
   ]
  },
  {
   "cell_type": "code",
   "execution_count": 43,
   "id": "3a4539ed",
   "metadata": {},
   "outputs": [],
   "source": [
    "df_eda = df.copy()\n",
    "# preprocessing\n",
    "df_eda[\"title_clean\"] = df_eda[\"title\"].apply(preprocess)\n",
    "df_eda[\"text_clean\"] = df_eda[\"text\"].apply(preprocess)"
   ]
  },
  {
   "cell_type": "code",
   "execution_count": 45,
   "id": "304f4115",
   "metadata": {},
   "outputs": [
    {
     "data": {
      "image/png": "[encoded data removed]",
      "text/plain": [
       "<Figure size 1200x700 with 4 Axes>"
      ]
     },
     "metadata": {},
     "output_type": "display_data"
    }
   ],
   "source": [
    "df_eda[\"title_length\"] = df_eda[\"title_clean\"].str.len()\n",
    "df_eda[\"text_length\"] = df_eda[\"text_clean\"].str.len()\n",
    "\n",
    "plt.figure(figsize=(12, 7))\n",
    "\n",
    "plt.subplot(2, 2, 1)\n",
    "sns.boxplot(y=\"title_length\", data=df_eda, hue=\"label\", hue_order=[\"real\", \"fake\"])\n",
    "plt.title(\"Boxplot of title length by REAL or FAKE titles\")\n",
    "\n",
    "plt.subplot(2, 2, 3)\n",
    "sns.boxplot(y=\"text_length\", data=df_eda, hue=\"label\", hue_order=[\"real\", \"fake\"])\n",
    "plt.title(\"Boxplot of text length by REAL or FAKE news\")\n",
    "\n",
    "plt.subplot(2, 2, 2)\n",
    "sns.histplot(x=\"title_length\", data=df_eda, hue=\"label\", hue_order=[\"real\", \"fake\"])\n",
    "plt.title(\"Histogram of title length by REAL or FAKE titles\")\n",
    "\n",
    "plt.subplot(2, 2, 4)\n",
    "sns.histplot(x=\"text_length\", data=df_eda, hue=\"label\", hue_order=[\"real\", \"fake\"])\n",
    "plt.title(\"Histogram of text length by REAL or FAKE news\")\n",
    "\n",
    "plt.tight_layout()\n",
    "plt.show()"
   ]
  },
  {
   "cell_type": "markdown",
   "id": "55221b66",
   "metadata": {},
   "source": [
    "🔔  Text lenght insight:\n",
    "\n",
    "As it's shown in the boxplot of the title lenght distribution, for the fake news we observe a distribution shift toward higher levels and that could be a first clue that alarm us on the veracity of the news."
   ]
  },
  {
   "cell_type": "markdown",
   "id": "d8face69",
   "metadata": {},
   "source": [
    "## Sentiment Analysis"
   ]
  },
  {
   "cell_type": "code",
   "execution_count": 49,
   "id": "29353b89",
   "metadata": {},
   "outputs": [],
   "source": [
    "from nltk.sentiment import SentimentIntensityAnalyzer"
   ]
  },
  {
   "cell_type": "code",
   "execution_count": 50,
   "id": "8fe40fe5",
   "metadata": {},
   "outputs": [
    {
     "data": {
      "text/html": [
       "<div>\n",
       "<style scoped>\n",
       "    .dataframe tbody tr th:only-of-type {\n",
       "        vertical-align: middle;\n",
       "    }\n",
       "\n",
       "    .dataframe tbody tr th {\n",
       "        vertical-align: top;\n",
       "    }\n",
       "\n",
       "    .dataframe thead th {\n",
       "        text-align: right;\n",
       "    }\n",
       "</style>\n",
       "<table border=\"1\" class=\"dataframe\">\n",
       "  <thead>\n",
       "    <tr style=\"text-align: right;\">\n",
       "      <th></th>\n",
       "      <th>index</th>\n",
       "      <th>title</th>\n",
       "      <th>text</th>\n",
       "      <th>subject</th>\n",
       "      <th>date</th>\n",
       "      <th>label</th>\n",
       "      <th>label_enc</th>\n",
       "      <th>title_clean</th>\n",
       "      <th>text_clean</th>\n",
       "      <th>title_length</th>\n",
       "      <th>text_length</th>\n",
       "      <th>title_sentiment</th>\n",
       "      <th>text_sentiment</th>\n",
       "    </tr>\n",
       "  </thead>\n",
       "  <tbody>\n",
       "    <tr>\n",
       "      <th>0</th>\n",
       "      <td>0</td>\n",
       "      <td>As U.S. budget fight looms, Republicans flip t...</td>\n",
       "      <td>WASHINGTON  - The head of a conservative Repub...</td>\n",
       "      <td>politicsNews</td>\n",
       "      <td>December 31, 2017</td>\n",
       "      <td>real</td>\n",
       "      <td>0</td>\n",
       "      <td>[budget, fight, loom, republican, flip, fiscal...</td>\n",
       "      <td>[washington, head, conservative, republican, f...</td>\n",
       "      <td>7</td>\n",
       "      <td>435</td>\n",
       "      <td>Negative</td>\n",
       "      <td>Strongly Positive</td>\n",
       "    </tr>\n",
       "    <tr>\n",
       "      <th>1</th>\n",
       "      <td>1</td>\n",
       "      <td>U.S. military to accept transgender recruits o...</td>\n",
       "      <td>WASHINGTON  - Transgender people will be allow...</td>\n",
       "      <td>politicsNews</td>\n",
       "      <td>December 29, 2017</td>\n",
       "      <td>real</td>\n",
       "      <td>0</td>\n",
       "      <td>[military, accept, transgender, recruit, monda...</td>\n",
       "      <td>[washington, transgender, people, allowed, fir...</td>\n",
       "      <td>6</td>\n",
       "      <td>374</td>\n",
       "      <td>Positive</td>\n",
       "      <td>Neutral</td>\n",
       "    </tr>\n",
       "    <tr>\n",
       "      <th>2</th>\n",
       "      <td>2</td>\n",
       "      <td>Senior U.S. Republican senator: 'Let Mr. Muell...</td>\n",
       "      <td>WASHINGTON  - The special counsel investigatio...</td>\n",
       "      <td>politicsNews</td>\n",
       "      <td>December 31, 2017</td>\n",
       "      <td>real</td>\n",
       "      <td>0</td>\n",
       "      <td>[senior, republican, senator, let, mueller, job]</td>\n",
       "      <td>[washington, special, counsel, investigation, ...</td>\n",
       "      <td>6</td>\n",
       "      <td>256</td>\n",
       "      <td>Neutral</td>\n",
       "      <td>Strongly Negative</td>\n",
       "    </tr>\n",
       "    <tr>\n",
       "      <th>3</th>\n",
       "      <td>3</td>\n",
       "      <td>FBI Russia probe helped by Australian diplomat...</td>\n",
       "      <td>WASHINGTON  - Trump campaign adviser George Pa...</td>\n",
       "      <td>politicsNews</td>\n",
       "      <td>December 30, 2017</td>\n",
       "      <td>real</td>\n",
       "      <td>0</td>\n",
       "      <td>[fbi, russia, probe, helped, australian, diplo...</td>\n",
       "      <td>[washington, trump, campaign, adviser, george,...</td>\n",
       "      <td>8</td>\n",
       "      <td>225</td>\n",
       "      <td>Neutral</td>\n",
       "      <td>Negative</td>\n",
       "    </tr>\n",
       "    <tr>\n",
       "      <th>4</th>\n",
       "      <td>4</td>\n",
       "      <td>Trump wants Postal Service to charge 'much mor...</td>\n",
       "      <td>SEATTLE/WASHINGTON  - President Donald Trump c...</td>\n",
       "      <td>politicsNews</td>\n",
       "      <td>December 29, 2017</td>\n",
       "      <td>real</td>\n",
       "      <td>0</td>\n",
       "      <td>[trump, want, postal, service, charge, much, a...</td>\n",
       "      <td>[seattle, washington, president, donald, trump...</td>\n",
       "      <td>8</td>\n",
       "      <td>486</td>\n",
       "      <td>Positive</td>\n",
       "      <td>Positive</td>\n",
       "    </tr>\n",
       "  </tbody>\n",
       "</table>\n",
       "</div>"
      ],
      "text/plain": [
       "   index                                              title  \\\n",
       "0      0  As U.S. budget fight looms, Republicans flip t...   \n",
       "1      1  U.S. military to accept transgender recruits o...   \n",
       "2      2  Senior U.S. Republican senator: 'Let Mr. Muell...   \n",
       "3      3  FBI Russia probe helped by Australian diplomat...   \n",
       "4      4  Trump wants Postal Service to charge 'much mor...   \n",
       "\n",
       "                                                text       subject  \\\n",
       "0  WASHINGTON  - The head of a conservative Repub...  politicsNews   \n",
       "1  WASHINGTON  - Transgender people will be allow...  politicsNews   \n",
       "2  WASHINGTON  - The special counsel investigatio...  politicsNews   \n",
       "3  WASHINGTON  - Trump campaign adviser George Pa...  politicsNews   \n",
       "4  SEATTLE/WASHINGTON  - President Donald Trump c...  politicsNews   \n",
       "\n",
       "                 date label  label_enc  \\\n",
       "0  December 31, 2017   real          0   \n",
       "1  December 29, 2017   real          0   \n",
       "2  December 31, 2017   real          0   \n",
       "3  December 30, 2017   real          0   \n",
       "4  December 29, 2017   real          0   \n",
       "\n",
       "                                         title_clean  \\\n",
       "0  [budget, fight, loom, republican, flip, fiscal...   \n",
       "1  [military, accept, transgender, recruit, monda...   \n",
       "2   [senior, republican, senator, let, mueller, job]   \n",
       "3  [fbi, russia, probe, helped, australian, diplo...   \n",
       "4  [trump, want, postal, service, charge, much, a...   \n",
       "\n",
       "                                          text_clean  title_length  \\\n",
       "0  [washington, head, conservative, republican, f...             7   \n",
       "1  [washington, transgender, people, allowed, fir...             6   \n",
       "2  [washington, special, counsel, investigation, ...             6   \n",
       "3  [washington, trump, campaign, adviser, george,...             8   \n",
       "4  [seattle, washington, president, donald, trump...             8   \n",
       "\n",
       "   text_length title_sentiment     text_sentiment  \n",
       "0          435        Negative  Strongly Positive  \n",
       "1          374        Positive            Neutral  \n",
       "2          256         Neutral  Strongly Negative  \n",
       "3          225         Neutral           Negative  \n",
       "4          486        Positive           Positive  "
      ]
     },
     "execution_count": 50,
     "metadata": {},
     "output_type": "execute_result"
    }
   ],
   "source": [
    "sia = SentimentIntensityAnalyzer(\n",
    "    lexicon_file=\"data/sentiment/vader_lexicon/vader_lexicon.txt\"\n",
    ")\n",
    "\n",
    "\n",
    "def get_sentiment_score(text):\n",
    "    polarity_score = sia.polarity_scores(text)[\"compound\"]\n",
    "    if polarity_score <= -0.6:\n",
    "        return \"Strongly Negative\"\n",
    "    elif polarity_score <= -0.2:\n",
    "        return \"Negative\"\n",
    "    elif polarity_score <= 0.2:\n",
    "        return \"Neutral\"\n",
    "    elif polarity_score <= 0.6:\n",
    "        return \"Positive\"\n",
    "    else:\n",
    "        return \"Strongly Positive\"\n",
    "\n",
    "\n",
    "df_eda[\"title_sentiment\"] = df_eda[\"title\"].apply(get_sentiment_score)\n",
    "df_eda[\"text_sentiment\"] = df_eda[\"text\"].apply(get_sentiment_score)\n",
    "\n",
    "df_eda.head()"
   ]
  },
  {
   "cell_type": "code",
   "execution_count": 52,
   "id": "bf7a4e50",
   "metadata": {},
   "outputs": [
    {
     "data": {
      "image/png": "[encoded data removed]",
      "text/plain": [
       "<Figure size 1200x500 with 2 Axes>"
      ]
     },
     "metadata": {},
     "output_type": "display_data"
    }
   ],
   "source": [
    "order = [\"Strongly Negative\", \"Negative\", \"Neutral\", \"Positive\", \"Strongly Positive\"]\n",
    "\n",
    "plt.figure(figsize=(12, 5))\n",
    "plt.subplot(1, 2, 1)\n",
    "ax1 = sns.countplot(x=\"title_sentiment\", order=order, data=df_eda, hue=\"label\")\n",
    "ax1.set_xticks(ax1.get_xticks())\n",
    "ax1.set_xticklabels(ax1.get_xticklabels(), rotation=-45, ha=\"left\")\n",
    "plt.title(\"Title Sentiment Distribution by News Type\")\n",
    "plt.subplot(1, 2, 2)\n",
    "ax2 = sns.countplot(x=\"text_sentiment\", order=order, data=df_eda, hue=\"label\")\n",
    "ax2.set_xticks(ax2.get_xticks())\n",
    "ax2.set_xticklabels(ax2.get_xticklabels(), rotation=-45, ha=\"left\")\n",
    "plt.title(\"Text Sentiment Distribution by News Type\")\n",
    "\n",
    "plt.tight_layout()\n",
    "plt.show()"
   ]
  },
  {
   "cell_type": "markdown",
   "id": "2c76e09e",
   "metadata": {},
   "source": [
    "🔔  Sentiment analysis insight:\n",
    "\n",
    "From the histogram we can assert that especially in the title (but also in the text) if the content is extreme (positive or negative) is more likely that it's a fake news"
   ]
  },
  {
   "cell_type": "markdown",
   "id": "70f8305d",
   "metadata": {},
   "source": [
    "## Topic Model"
   ]
  },
  {
   "cell_type": "code",
   "execution_count": null,
   "id": "f616df49",
   "metadata": {},
   "outputs": [],
   "source": [
    "df_eda.isna().sum()"
   ]
  },
  {
   "cell_type": "code",
   "execution_count": null,
   "id": "861b9a1c",
   "metadata": {},
   "outputs": [],
   "source": [
    "df_eda['full_text'] = df_eda['title'] + ' ' + df_eda['text']"
   ]
  },
  {
   "cell_type": "code",
   "execution_count": null,
   "id": "958d53cc",
   "metadata": {},
   "outputs": [],
   "source": [
    "df_eda['tokens'] = df_eda['full_text'].apply(preprocess)"
   ]
  },
  {
   "cell_type": "markdown",
   "id": "b4f75a33",
   "metadata": {},
   "source": [
    "### LDA"
   ]
  },
  {
   "cell_type": "code",
   "execution_count": null,
   "id": "d2dc8f3b",
   "metadata": {},
   "outputs": [],
   "source": [
    "df_lda = df_eda.copy()"
   ]
  },
  {
   "cell_type": "markdown",
   "id": "2a8990b0",
   "metadata": {},
   "source": [
    "POS tagging used to clean the dictionary"
   ]
  },
  {
   "cell_type": "code",
   "execution_count": null,
   "id": "4bb35152",
   "metadata": {},
   "outputs": [],
   "source": [
    "nlp = spacy.load(\"en_core_web_sm\", disable=[\"ner\"])\n",
    "texts = df_lda['full_text'].tolist()  \n",
    "\n",
    "# POS tagging\n",
    "pos_allowed = {\"NOUN\", \"PROPN\", \"ADJ\"}\n",
    "filtered_tokens = []\n",
    "for doc in tqdm(nlp.pipe(texts, batch_size=128, n_process=-1), total=len(texts)):\n",
    "    tokens = [\n",
    "        tok.lemma_.lower()\n",
    "        for tok in doc\n",
    "        if tok.pos_ in pos_allowed and not tok.is_stop and tok.is_alpha\n",
    "    ]\n",
    "    filtered_tokens.append(tokens)\n",
    "\n",
    "# Dictionary\n",
    "dictionary = corpora.Dictionary(filtered_tokens)\n",
    "dictionary.filter_extremes(no_below=10, no_above=0.5)\n",
    "\n",
    "# BoW\n",
    "corpus = [dictionary.doc2bow(text) for text in filtered_tokens]\n",
    "\n",
    "# LDA\n",
    "lda_model = models.LdaMulticore(\n",
    "    corpus=corpus,\n",
    "    id2word=dictionary,\n",
    "    num_topics=5,\n",
    "    passes=10,\n",
    "    random_state=42\n",
    ")"
   ]
  },
  {
   "cell_type": "code",
   "execution_count": null,
   "id": "84b8878a",
   "metadata": {},
   "outputs": [],
   "source": [
    "pprint(lda_model.print_topics())\n",
    "doc_lda = lda_model[corpus]"
   ]
  },
  {
   "cell_type": "markdown",
   "id": "907b373f",
   "metadata": {},
   "source": [
    "🔔 Topic description:\n",
    "\n",
    "Looking at the key words by topic returned from the LDA model we can try to make an interpretation of the clusters:\n",
    "\n",
    "- *Topic 0*: **Migration and international governance**\n",
    "    - Keyword: year, government, country, refugee, muslim, united, people, state\n",
    "    - References to refugees, states, populations, and government institutions\n",
    "\n",
    "- *Topic 1*: **Geopolitics and international conflicts**\n",
    "    - Keyword: syria, military, russia, united, war, iran, states, official\n",
    "    - Focus on Syria, Russia, Iran and military operations\n",
    "\n",
    "- *Topic 2*: **US election campaign and presidential politics**\n",
    "    - Keyword: clinton, obama, donald, hillary, campaign, republican, video, white\n",
    "    - Many references to political figures and political communication\n",
    "\n",
    "- *Topic 3*: **Education, legislation and homeland security**\n",
    "    - Keyword: student, law, school, bill, house, police, republican\n",
    "    - A mix of school, law and law enforcement topics\n",
    "\n",
    "- *Topic 4*: **Media, news and political scandals**\n",
    "\n",
    "    - Keyword: news, medium, story, clinton, fbi, email, hillary, police\n",
    "    - Topics related to media, news narrative and scandals"
   ]
  },
  {
   "cell_type": "code",
   "execution_count": null,
   "id": "acc1eb8d",
   "metadata": {},
   "outputs": [],
   "source": [
    "dominant_info = [max(doc, key=lambda x: x[1]) for doc in doc_lda]\n",
    "df_lda[\"topic\"] = [topic for topic, prob in dominant_info]\n",
    "df_lda[\"topic_prob\"] = [prob for topic, prob in dominant_info]"
   ]
  },
  {
   "cell_type": "code",
   "execution_count": null,
   "id": "64ac5798",
   "metadata": {},
   "outputs": [],
   "source": [
    "plot_df = df_lda.groupby(['topic', 'label']).size().unstack(fill_value=0)\n",
    "plot_df['total'] = plot_df.sum(axis=1)\n",
    "plot_df['fake_pct'] = plot_df['fake'] / plot_df['total'] * 100\n",
    "\n",
    "# set the plot\n",
    "ax = df_lda.groupby(['topic', 'label']).size().unstack().plot(\n",
    "    kind='barh', stacked=True, figsize=(8,6)\n",
    ")\n",
    "# add percentage\n",
    "for i, (total, pct) in enumerate(zip(plot_df['total'], plot_df['fake_pct'])):\n",
    "    ax.text(total + 1, i, f'{pct:.1f}%', va='center', fontsize=10)\n",
    "# add legend text\n",
    "handles, labels = ax.get_legend_handles_labels()\n",
    "extra_label = Patch(color='none', label='% fake/total')\n",
    "handles.append(extra_label)\n",
    "labels.append('% fake/total')\n",
    "ax.legend(handles, labels, loc='best')\n",
    "\n",
    "plt.xlabel(\"N° articles\")\n",
    "plt.ylabel(\"Topic\")\n",
    "plt.title(\"Distribution fake-real by topic\")\n",
    "plt.tight_layout()\n",
    "plt.show()\n"
   ]
  },
  {
   "cell_type": "markdown",
   "id": "b63f4d2e",
   "metadata": {},
   "source": [
    "🔔 Topic fake-real proportion:\n",
    "\n",
    "As clearly the barchart shows the topic 2 (US election campaign and presidential politics) is the one with the most fake news either in absolute frequency either in percentage. Also the topic 4 (Media, news and political scandals) has an high fake news ratio.\n",
    "\n",
    "This is already a clue about how some topics are more prone to fake news."
   ]
  },
  {
   "cell_type": "markdown",
   "id": "7739f233",
   "metadata": {},
   "source": [
    "In the following analysis is performed the NER model just on the 10% of the df due to computational cost. \n",
    "\n",
    "It's gonna be extract the most significant articles for every topic (800) and then perform the NER to analyze some pattern about the entities."
   ]
  },
  {
   "cell_type": "code",
   "execution_count": null,
   "id": "ae11d749",
   "metadata": {},
   "outputs": [],
   "source": [
    "# NER\n",
    "N = 800  # 5 topic x 800 = 4000 articles\n",
    "\n",
    "top_docs_per_topic = []\n",
    "\n",
    "for topic_id in range(lda_model.num_topics):\n",
    "    top_docs = df_lda[df_lda[\"topic\"] == topic_id].sort_values(\n",
    "        by=\"topic_prob\", ascending=False\n",
    "    ).head(N)\n",
    "    top_docs_per_topic.append(top_docs)\n",
    "\n",
    "df_top_for_ner = pd.concat(top_docs_per_topic).reset_index(drop=True)\n",
    "df_top_for_ner = df_top_for_ner.drop_duplicates(subset=[\"full_text\"])\n",
    "\n",
    "nlp = spacy.load(\"en_core_web_sm\")\n",
    "\n",
    "entities_data = []\n",
    "\n",
    "for idx, row in df_top_for_ner.iterrows():\n",
    "    doc = nlp(row[\"full_text\"])\n",
    "    for ent in doc.ents:\n",
    "        entities_data.append({\n",
    "            \"doc_id\": idx,\n",
    "            \"topic\": row[\"topic\"],\n",
    "            \"entity_text\": ent.text,\n",
    "            \"entity_label\": ent.label_\n",
    "        })\n",
    "\n",
    "df_entities = pd.DataFrame(entities_data)\n"
   ]
  },
  {
   "cell_type": "code",
   "execution_count": null,
   "id": "51ba5740",
   "metadata": {},
   "outputs": [],
   "source": [
    "# counting\n",
    "count_ent = pd.DataFrame(df_entities.groupby(\"topic\")[\"entity_text\"].value_counts().groupby(level=0).head(10), columns=['count'])\n",
    "count_type_ent = pd.DataFrame(df_entities.groupby(\"topic\")[\"entity_label\"].value_counts().unstack(fill_value=0))"
   ]
  },
  {
   "cell_type": "code",
   "execution_count": null,
   "id": "5b5e0b08",
   "metadata": {},
   "outputs": [],
   "source": [
    "fig, axes = plt.subplots(3, 2, figsize=(15,10))\n",
    "axes = axes.flatten()\n",
    "\n",
    "for i in count_ent.index.get_level_values(0).unique():\n",
    "# Seleziona solo le righe con topic == 0\n",
    "    df_sub = count_ent.loc[i]  # questo restituisce un DataFrame indicizzato da 'entity_text'\n",
    "\n",
    "    # Se 'entity_text' è ancora nell'indice, resetta se vuoi come colonna\n",
    "    df_sub = df_sub.reset_index()  # ora 'entity_text' è una colonna\n",
    "\n",
    "    # Plot\n",
    "    axes[i].bar(df_sub['entity_text'], df_sub['count'])\n",
    "    axes[i].tick_params(axis='x', rotation=45)\n",
    "    axes[i].set_xlabel('Entity Text')\n",
    "    axes[i].set_ylabel('Count')\n",
    "    axes[i].set_title(f\"Entity count for topic {i}\")\n",
    "    \n",
    "plt.tight_layout()\n",
    "plt.show()"
   ]
  },
  {
   "cell_type": "markdown",
   "id": "521ff0ab",
   "metadata": {},
   "source": [
    "We can see as some entities are much more contained in the fake news text ad *Trump*, *Clinton*, *Senate*.\n",
    "\n",
    "Selected some of the most important entities the following visualization is going to help to understand on the whole dataset of news which words (entities) are more frequent in fake news."
   ]
  },
  {
   "cell_type": "code",
   "execution_count": null,
   "id": "d601e711",
   "metadata": {},
   "outputs": [],
   "source": [
    "key_fake_words = ['Trump', 'Republican', 'Republicans', 'Obama', 'US', 'U.S.', 'Hillary Clinton', 'Clinton']\n",
    "for target in key_fake_words:\n",
    "    plot_distribution_entity(df_lda, target, search_col='full_text')"
   ]
  },
  {
   "cell_type": "markdown",
   "id": "f58848bb",
   "metadata": {},
   "source": [
    "🔔 Allert-words insight:\n",
    "\n",
    "Set of word analyzed:\n",
    "- *Trump*: has a fake ratio of 60%, but the distribution shows that more the counting of the word in the news increase higher is the fake ratio, indeed from the 40 occurrences per article it's almost 100% fake. This means that when the word Trump is written a lot of times it's an allert for a fake news.\n",
    "- *Republican* and *Republicans*: those 2 words have around 50% fake ratio and the distributions don't show any trend linked to an higher ratio.\n",
    "- *Obama*: for this word is the same argument as for the 'Trump' word. The ratio is around 60-70% in the low occurences articles but when the counting increases over 15 the ratio is much more higher, so even this word is an allert for fake news.\n",
    "- *US* and *U.S.*: the distributions of the 2 words are opposite showing us that if is written with the dots is much more reliable (fake ratio: 19% with dots vs 80% without). The distribution of 'US' shows that if it'swritten more than 2 times in the article the probability of a fake news is from 90 to 100%. According to this analysis the 0 bar of *U.S.* word (no presence in the text) shows high fake ratio (70%).\n",
    "- *Hillary Clinton* and *Clinton*: both the words are very fake-prone (67%-75% fake ratio), the distribution shows that for the all name already when it's written 3 times or more the ratio rise to 90% and more while for just 'Clinton', those ratios are reached with a minimum occurrences number of 30.\n",
    "\n",
    "\n",
    "In the end this analysis showed that there are some kind of news (topic like US election campaign, presidential politics, media, news and political scandals) much more fake-prone and in these ones there are pattern and allert words such as *Trump*, *US* (without dots), *Obama*, *Hillary Clinton* and *Clinton*. These words are more reliable indicators of fake news when the occurrences in the article are high."
   ]
  },
  {
   "cell_type": "markdown",
   "id": "2422fff4",
   "metadata": {},
   "source": [
    "3. Do fake news headlines exhibit recurring patterns?\n",
    "\n",
    "To answer this question we can use the NER method as done for the full text"
   ]
  },
  {
   "cell_type": "code",
   "execution_count": null,
   "id": "7e921561",
   "metadata": {},
   "outputs": [],
   "source": [
    "nlp = spacy.load(\"en_core_web_sm\")\n",
    "\n",
    "entities_data = []\n",
    "\n",
    "for idx, row in df_lda.iterrows():\n",
    "    doc = nlp(row[\"title\"])\n",
    "    for ent in doc.ents:\n",
    "        entities_data.append({\n",
    "            \"doc_id\": idx,\n",
    "            \"topic\": row[\"topic\"],\n",
    "            \"entity_text\": ent.text,\n",
    "            \"entity_label\": ent.label_\n",
    "        })\n",
    "\n",
    "df_title_ent = pd.DataFrame(entities_data)"
   ]
  },
  {
   "cell_type": "code",
   "execution_count": null,
   "id": "5a996d05",
   "metadata": {},
   "outputs": [],
   "source": [
    "# counting\n",
    "count_title_ent = pd.DataFrame(df_title_ent.groupby(\"topic\")[\"entity_text\"].value_counts().groupby(level=0).head(10),\n",
    "                               columns=['count'])\n",
    "count_type_title_ent = pd.DataFrame(df_title_ent.groupby(\"topic\")[\"entity_label\"].value_counts().unstack(fill_value=0))"
   ]
  },
  {
   "cell_type": "code",
   "execution_count": null,
   "id": "b0959e92",
   "metadata": {},
   "outputs": [],
   "source": [
    "fig, axes = plt.subplots(3, 2, figsize=(15,10))\n",
    "axes = axes.flatten()\n",
    "\n",
    "for i in count_title_ent.index.get_level_values(0).unique():\n",
    "    df_sub = count_title_ent.loc[i] \n",
    "    df_sub = df_sub.reset_index()  \n",
    "    \n",
    "    axes[i].bar(df_sub['entity_text'], df_sub['count'])\n",
    "    axes[i].tick_params(axis='x', rotation=45)\n",
    "    axes[i].set_xlabel('Entity Text')\n",
    "    axes[i].set_ylabel('Count')\n",
    "    axes[i].set_title(f\"Entity count for topic {i}\")\n",
    "    \n",
    "plt.tight_layout()\n",
    "plt.show()"
   ]
  },
  {
   "cell_type": "code",
   "execution_count": null,
   "id": "8124ddda",
   "metadata": {},
   "outputs": [],
   "source": [
    "key_fake_words = ['Trump', 'GOP', 'Republican', 'Republicans', 'Russia','Russian',\n",
    "                  'Obama','U.S.', 'Clinton', 'HILLARY', 'Hillary', 'FBI', 'CIA', 'CNN']\n",
    "for target in key_fake_words:\n",
    "    plot_distribution_entity(df_lda, target, search_col='title', division=False)"
   ]
  },
  {
   "cell_type": "markdown",
   "id": "c3f77383",
   "metadata": {},
   "source": [
    "🔔 Title insight:\n",
    "\n",
    "For the most frequent entities recognized by topic a lot of them have an higher rate of real ratio then fake ratio as *U.S.*, *Russian*, *Russia*, *Republican* meaning that those are not signals of a fake news, while words like *Clinton*, *Republicans* have a 55-45 balance fake-real not so much reliable on identify fake news.\n",
    "\n",
    "On the other hand we can recognize the same behavior in the other words analyzed because when those words aren't in the title the chance that it's a fake news is around 50% (random), but when they are in the fake ratio increase a lot sometimes almost 100%:\n",
    "*Trump* (60%), *GOP* (99%), *Obama* (68%), *HILLARY* (100%), *Hillary* (97%), *FBI* (70%), *CIA* (83%) *CNN* (90%).\n",
    "\n",
    "These are pattern useful to recognize the fake news from the title and all these terms are in the sphere of the presidential, election, media, scandals topic. "
   ]
  },
  {
   "cell_type": "markdown",
   "id": "0ce74cc6",
   "metadata": {},
   "source": [
    "# Classification Model"
   ]
  },
  {
   "cell_type": "markdown",
   "id": "5092abef",
   "metadata": {},
   "source": [
    "Testing models:\n",
    "\n",
    "con TF-IDF\n",
    "- LR\n",
    "- RF\n",
    "- MultinomialNB\n",
    "- XGBoost\n",
    "- LightGBM\n",
    "- Neural Network -> MLP"
   ]
  },
  {
   "cell_type": "markdown",
   "id": "bbd9973d",
   "metadata": {},
   "source": [
    "## Preparing data"
   ]
  },
  {
   "cell_type": "markdown",
   "id": "cc3bfd0a",
   "metadata": {},
   "source": [
    "### Cleaning from *Reuters* tag\n",
    "\n",
    "In the REAL news there is always (or almost) the tag *Reuters*, so we need to clean it to avoid overfitting from the classification models."
   ]
  },
  {
   "cell_type": "code",
   "execution_count": 77,
   "id": "ecad63ba",
   "metadata": {},
   "outputs": [
    {
     "name": "stdout",
     "output_type": "stream",
     "text": [
      "Number of real news: 21417\n",
      "Number of news that contain the word '(Reuters)' in the text col: 21245\n",
      "21237 on the 21245 news with '(Reuters)' are real, 99.96 %\n",
      "8 on the 21245 news with '(Reuters)' are fake, 0.04 %\n"
     ]
    }
   ],
   "source": [
    "# check string Reuters if is in all the real news\n",
    "print(f\"Number of real news: {len(true_news)}\")\n",
    "word = \"(Reuters)\"\n",
    "count_word = 0 \n",
    "real_count = 0\n",
    "fake_count = 0\n",
    "for i in range(0,len(df)):\n",
    "    if word in df.loc[i]['text'].split():\n",
    "        count_word+=1\n",
    "        if df.loc[i]['label']=='real':\n",
    "            real_count+=1\n",
    "        if df.loc[i]['label']=='fake':\n",
    "            fake_count+=1\n",
    "print(f\"Number of news that contain the word \\'{word}\\' in the text col: {count_word}\")\n",
    "print(f\"{real_count} on the {count_word} news with \\'{word}\\' are real, {(real_count/count_word)*100:.2f} %\")\n",
    "print(f\"{fake_count} on the {count_word} news with \\'{word}\\' are fake, {(fake_count/count_word)*100:.2f} %\")"
   ]
  },
  {
   "cell_type": "code",
   "execution_count": 78,
   "id": "42067140",
   "metadata": {},
   "outputs": [],
   "source": [
    "df['text'] = df['text'].str.replace(word, '', regex=False)"
   ]
  },
  {
   "cell_type": "markdown",
   "id": "8159cf18",
   "metadata": {},
   "source": [
    "### Encoding target feature"
   ]
  },
  {
   "cell_type": "code",
   "execution_count": 79,
   "id": "b55f4094",
   "metadata": {},
   "outputs": [],
   "source": [
    "label_enc = {'real':0, 'fake':1}\n",
    "df['label_enc'] = df['label'].map(label_enc)"
   ]
  },
  {
   "cell_type": "markdown",
   "id": "2c0cda3c",
   "metadata": {},
   "source": [
    "### Hold out"
   ]
  },
  {
   "cell_type": "code",
   "execution_count": 80,
   "id": "e2433ab6",
   "metadata": {},
   "outputs": [],
   "source": [
    "X = df['text']\n",
    "y = df['label_enc']"
   ]
  },
  {
   "cell_type": "code",
   "execution_count": 81,
   "id": "eeb8b8e4",
   "metadata": {},
   "outputs": [],
   "source": [
    "X_train, X_test, y_train, y_test = train_test_split(X, y, test_size=0.2, stratify=y)"
   ]
  },
  {
   "cell_type": "markdown",
   "id": "126339ff",
   "metadata": {},
   "source": [
    "### Preprocessing"
   ]
  },
  {
   "cell_type": "code",
   "execution_count": 82,
   "id": "ec8ecefb",
   "metadata": {},
   "outputs": [],
   "source": [
    "scaler = MaxAbsScaler()"
   ]
  },
  {
   "cell_type": "code",
   "execution_count": 83,
   "id": "c37e9fec",
   "metadata": {},
   "outputs": [],
   "source": [
    "tfidf = TfidfVectorizer(max_df=0.95,          \n",
    "                        min_df=2,\n",
    "                        ngram_range=(1,2)\n",
    "                        )"
   ]
  },
  {
   "cell_type": "code",
   "execution_count": 84,
   "id": "baac14c4",
   "metadata": {},
   "outputs": [],
   "source": [
    "# creating the list for models\n",
    "List_Classification_Models =[]\n",
    "List_Classification_Models.append(('LR', LogisticRegression(C=1.0, penalty=\"l2\", random_state=random_seed), \n",
    "                                   scaler))\n",
    "\n",
    "List_Classification_Models.append(('Multinomial_NB', MultinomialNB(alpha=1.0),\n",
    "                                   'passthrough'))\n",
    "\n",
    "List_Classification_Models.append(('RF', RandomForestClassifier(n_estimators=100, \n",
    "                                                                max_depth=10,\n",
    "                                                                max_features='sqrt',\n",
    "                                                                n_jobs=-1,\n",
    "                                                                random_state=random_seed),\n",
    "                                   'passthrough'))\n",
    "List_Classification_Models.append(('XGB', xgb.XGBClassifier(n_estimators=100,        \n",
    "                                                            learning_rate=0.1,       \n",
    "                                                            max_depth=6,           \n",
    "                                                            subsample=0.8,          \n",
    "                                                            colsample_bytree=0.8,\n",
    "                                                            use_label_encoder=False,\n",
    "                                                            eval_metric='logloss',\n",
    "                                                            objective='binary:logistic',\n",
    "                                                            random_state=random_seed),\n",
    "                                   'passthrough'))\n",
    "List_Classification_Models.append(('LightGBM', LGBMClassifier(objective='binary',\n",
    "                                                            n_estimators=300,\n",
    "                                                            learning_rate=0.1,\n",
    "                                                            num_leaves=31,           \n",
    "                                                            subsample=0.8,\n",
    "                                                            colsample_bytree=0.8,\n",
    "                                                            max_depth=7,\n",
    "                                                            verbosity=-1,\n",
    "                                                            random_state=random_seed),\n",
    "                                   'passthrough'))\n",
    "List_Classification_Models.append(('MLP', MLPClassifier(hidden_layer_sizes=(100,),\n",
    "                                                        activation='relu',           \n",
    "                                                        solver='adam',             \n",
    "                                                        max_iter=100,                \n",
    "                                                        early_stopping=True, \n",
    "                                                        n_iter_no_change=5,\n",
    "                                                        validation_fraction=0.05,\n",
    "                                                        tol=1e-3,        \n",
    "                                                        random_state=random_seed),\n",
    "                                   scaler))"
   ]
  },
  {
   "cell_type": "markdown",
   "id": "177c26c0",
   "metadata": {},
   "source": [
    "## Models with just articles text"
   ]
  },
  {
   "cell_type": "code",
   "execution_count": null,
   "id": "069d812a",
   "metadata": {},
   "outputs": [],
   "source": [
    "results = []\n",
    "\n",
    "for name, model, scaler in List_Classification_Models:\n",
    "\n",
    "    pipe = make_pipeline(name, model, scaler, \n",
    "                         vectorizer=tfidf, \n",
    "                         preprocessor =  TextPreprocessor(output='string'),\n",
    "                         random_seed=random_seed)\n",
    "    \n",
    "    start_time = time.time()\n",
    "\n",
    "    pipe.fit(X_train, y_train)\n",
    "    y_pred = pipe.predict(X_test)\n",
    "    y_proba = pipe.predict_proba(X_test)[:,1]\n",
    "    \n",
    "    end_time = time.time()\n",
    "    elapsed_time = end_time - start_time\n",
    "    minutes, seconds = divmod(elapsed_time, 60)\n",
    "    \n",
    "    result = get_performance_metrics(y_test, y_pred, y_proba, name)\n",
    "    results.append(result)\n",
    "    \n",
    "    print(f\"Finish training {name} Time: {int(minutes)} min {seconds:.2f} sec\")\n",
    "\n",
    "    \n",
    "# converti in DataFrame i risultati\n",
    "results_df = pd.DataFrame(results)\n",
    "results_df = results_df.sort_values(by='Accuracy', ascending=False)"
   ]
  },
  {
   "cell_type": "code",
   "execution_count": null,
   "id": "0820cd21",
   "metadata": {},
   "outputs": [],
   "source": [
    "results_df"
   ]
  },
  {
   "cell_type": "markdown",
   "id": "98190fdb",
   "metadata": {},
   "source": [
    "## Models with title and text "
   ]
  },
  {
   "cell_type": "code",
   "execution_count": 26,
   "id": "b8bf9623",
   "metadata": {},
   "outputs": [],
   "source": [
    "X_2 = df[['title', 'text']]\n",
    "y_2 = df['label_enc']\n",
    "X_2_train, X_2_test, y_2_train, y_2_test = train_test_split(X_2, y_2, test_size=0.2, stratify=y)"
   ]
  },
  {
   "cell_type": "code",
   "execution_count": null,
   "id": "60953002",
   "metadata": {},
   "outputs": [],
   "source": [
    "# needed to manage the different columns of title and text\n",
    "column_transformer = ColumnTransformer(transformers=[\n",
    "    ('title_tfidf', Pipeline([\n",
    "        ('prep', TextPreprocessor(output='string')),\n",
    "        ('tfidf', TfidfVectorizer())\n",
    "    ]), 'title'),\n",
    "    \n",
    "    ('text_tfidf', Pipeline([\n",
    "        ('prep', TextPreprocessor(output='string')),\n",
    "        ('tfidf', TfidfVectorizer())\n",
    "    ]), 'text'),\n",
    "])"
   ]
  },
  {
   "cell_type": "code",
   "execution_count": null,
   "id": "a00047ab",
   "metadata": {},
   "outputs": [
    {
     "data": {
      "image/png": "[encoded data removed]",
      "text/plain": [
       "<Figure size 640x480 with 2 Axes>"
      ]
     },
     "metadata": {},
     "output_type": "display_data"
    },
    {
     "name": "stdout",
     "output_type": "stream",
     "text": [
      "Finish training LR Time: 3 min 42.46 sec\n"
     ]
    },
    {
     "data": {
      "image/png": "[encoded data removed]",
      "text/plain": [
       "<Figure size 640x480 with 2 Axes>"
      ]
     },
     "metadata": {},
     "output_type": "display_data"
    },
    {
     "name": "stdout",
     "output_type": "stream",
     "text": [
      "Finish training Multinomial_NB Time: 1 min 58.24 sec\n"
     ]
    },
    {
     "data": {
      "image/png": "[encoded data removed]",
      "text/plain": [
       "<Figure size 640x480 with 2 Axes>"
      ]
     },
     "metadata": {},
     "output_type": "display_data"
    },
    {
     "name": "stdout",
     "output_type": "stream",
     "text": [
      "Finish training RF Time: 1 min 53.28 sec\n"
     ]
    },
    {
     "data": {
      "image/png": "[encoded data removed]",
      "text/plain": [
       "<Figure size 640x480 with 2 Axes>"
      ]
     },
     "metadata": {},
     "output_type": "display_data"
    },
    {
     "name": "stdout",
     "output_type": "stream",
     "text": [
      "Finish training XGB Time: 2 min 58.36 sec\n"
     ]
    },
    {
     "data": {
      "image/png": "[encoded data removed]",
      "text/plain": [
       "<Figure size 640x480 with 2 Axes>"
      ]
     },
     "metadata": {},
     "output_type": "display_data"
    },
    {
     "name": "stdout",
     "output_type": "stream",
     "text": [
      "Finish training LightGBM Time: 2 min 35.06 sec\n"
     ]
    },
    {
     "data": {
      "image/png": "[encoded data removed]",
      "text/plain": [
       "<Figure size 640x480 with 2 Axes>"
      ]
     },
     "metadata": {},
     "output_type": "display_data"
    },
    {
     "name": "stdout",
     "output_type": "stream",
     "text": [
      "Finish training MLP Time: 15 min 12.26 sec\n"
     ]
    }
   ],
   "source": [
    "results = []\n",
    "\n",
    "for name, model, scaler in List_Classification_Models:\n",
    "\n",
    "    pipe = make_pipeline(name, model, scaler, \n",
    "                         vectorizer='passthrough',      # because the vectorization is already performed \n",
    "                                                        # in the preprocess for every col\n",
    "                         preprocessor = column_transformer,\n",
    "                         random_seed=random_seed)\n",
    "    \n",
    "    start_time = time.time()\n",
    "\n",
    "    pipe.fit(X_2_train, y_2_train)\n",
    "    y_pred = pipe.predict(X_2_test)\n",
    "    y_proba = pipe.predict_proba(X_2_test)[:,1]\n",
    "    \n",
    "    end_time = time.time()\n",
    "    elapsed_time = end_time - start_time\n",
    "    minutes, seconds = divmod(elapsed_time, 60)\n",
    "    \n",
    "    result = get_performance_metrics(y_2_test, y_pred, y_proba, name, conf=True)\n",
    "    results.append(result)\n",
    "    \n",
    "    print(f\"Finish training {name} Time: {int(minutes)} min {seconds:.2f} sec\")\n",
    "\n",
    "    \n",
    "# convert the results in a DataFrame\n",
    "results_df = pd.DataFrame(results)\n",
    "results_df = results_df.sort_values(by='Accuracy', ascending=False)"
   ]
  },
  {
   "cell_type": "code",
   "execution_count": 23,
   "id": "bd385b23",
   "metadata": {},
   "outputs": [
    {
     "data": {
      "text/html": [
       "<div>\n",
       "<style scoped>\n",
       "    .dataframe tbody tr th:only-of-type {\n",
       "        vertical-align: middle;\n",
       "    }\n",
       "\n",
       "    .dataframe tbody tr th {\n",
       "        vertical-align: top;\n",
       "    }\n",
       "\n",
       "    .dataframe thead th {\n",
       "        text-align: right;\n",
       "    }\n",
       "</style>\n",
       "<table border=\"1\" class=\"dataframe\">\n",
       "  <thead>\n",
       "    <tr style=\"text-align: right;\">\n",
       "      <th></th>\n",
       "      <th>Model</th>\n",
       "      <th>Accuracy</th>\n",
       "      <th>Precision</th>\n",
       "      <th>Recall</th>\n",
       "      <th>F1 Score</th>\n",
       "      <th>ROC_AUC</th>\n",
       "    </tr>\n",
       "  </thead>\n",
       "  <tbody>\n",
       "    <tr>\n",
       "      <th>4</th>\n",
       "      <td>LightGBM</td>\n",
       "      <td>0.994209</td>\n",
       "      <td>0.995519</td>\n",
       "      <td>0.993399</td>\n",
       "      <td>0.994457</td>\n",
       "      <td>0.999808</td>\n",
       "    </tr>\n",
       "    <tr>\n",
       "      <th>0</th>\n",
       "      <td>LR</td>\n",
       "      <td>0.992984</td>\n",
       "      <td>0.994450</td>\n",
       "      <td>0.992121</td>\n",
       "      <td>0.993284</td>\n",
       "      <td>0.999561</td>\n",
       "    </tr>\n",
       "    <tr>\n",
       "      <th>5</th>\n",
       "      <td>MLP</td>\n",
       "      <td>0.992205</td>\n",
       "      <td>0.992547</td>\n",
       "      <td>0.992547</td>\n",
       "      <td>0.992547</td>\n",
       "      <td>0.999340</td>\n",
       "    </tr>\n",
       "    <tr>\n",
       "      <th>3</th>\n",
       "      <td>XGB</td>\n",
       "      <td>0.986414</td>\n",
       "      <td>0.990352</td>\n",
       "      <td>0.983603</td>\n",
       "      <td>0.986966</td>\n",
       "      <td>0.998818</td>\n",
       "    </tr>\n",
       "    <tr>\n",
       "      <th>2</th>\n",
       "      <td>RF</td>\n",
       "      <td>0.961247</td>\n",
       "      <td>0.952917</td>\n",
       "      <td>0.974020</td>\n",
       "      <td>0.963353</td>\n",
       "      <td>0.992144</td>\n",
       "    </tr>\n",
       "    <tr>\n",
       "      <th>1</th>\n",
       "      <td>Multinomial_NB</td>\n",
       "      <td>0.949889</td>\n",
       "      <td>0.943400</td>\n",
       "      <td>0.961882</td>\n",
       "      <td>0.952552</td>\n",
       "      <td>0.989584</td>\n",
       "    </tr>\n",
       "  </tbody>\n",
       "</table>\n",
       "</div>"
      ],
      "text/plain": [
       "            Model  Accuracy  Precision    Recall  F1 Score   ROC_AUC\n",
       "4        LightGBM  0.994209   0.995519  0.993399  0.994457  0.999808\n",
       "0              LR  0.992984   0.994450  0.992121  0.993284  0.999561\n",
       "5             MLP  0.992205   0.992547  0.992547  0.992547  0.999340\n",
       "3             XGB  0.986414   0.990352  0.983603  0.986966  0.998818\n",
       "2              RF  0.961247   0.952917  0.974020  0.963353  0.992144\n",
       "1  Multinomial_NB  0.949889   0.943400  0.961882  0.952552  0.989584"
      ]
     },
     "execution_count": 23,
     "metadata": {},
     "output_type": "execute_result"
    }
   ],
   "source": [
    "results_df"
   ]
  },
  {
   "cell_type": "markdown",
   "id": "c2b357b2",
   "metadata": {},
   "source": [
    "🔔 Models testing insight:\n",
    "\n",
    "\n",
    "To evaluate the goodness of the models performance we need to check if there is overfitting (possible given such high performance) and one way to do it is to perform the cross validation. \n",
    "\n",
    "Since the cross validation is computationally very expensive it's performed only on the best 3 models so LightGBM, Logistic Regression and MLP."
   ]
  },
  {
   "cell_type": "markdown",
   "id": "80d6ebb9",
   "metadata": {},
   "source": [
    "## Cross Validation"
   ]
  },
  {
   "cell_type": "code",
   "execution_count": null,
   "id": "4ae8ba86",
   "metadata": {},
   "outputs": [
    {
     "name": "stdout",
     "output_type": "stream",
     "text": [
      "Finish training MLP (cv) Time: 122 min 23.07 sec\n",
      "Finish training LightGBM (cv) Time: 6 min 20.62 sec\n",
      "Finish training LR (cv) Time: 3 min 44.45 sec\n"
     ]
    }
   ],
   "source": [
    "cv = StratifiedKFold(n_splits=5, shuffle=True, random_state=random_seed)\n",
    "scoring = {\n",
    "    'accuracy': 'accuracy',\n",
    "    'f1': 'f1',\n",
    "    'roc_auc': 'roc_auc'\n",
    "}\n",
    "reports_cv = []\n",
    "for mod in ['MLP', 'LightGBM', 'LR']:\n",
    "    name, model, scaler = extract_params(List_Classification_Models, mod)\n",
    "    pipe = make_pipeline(name, model, scaler, \n",
    "                         vectorizer='passthrough', \n",
    "                         preprocessor=column_transformer, \n",
    "                         random_seed=random_seed)\n",
    "    start_time = time.time()\n",
    "\n",
    "    reports_cv.append(evaluate_model(name=name, \n",
    "                                        pipeline = pipe, \n",
    "                                        X=X_2, y=y_2,\n",
    "                                        cv=cv,\n",
    "                                        scoring=scoring))\n",
    "\n",
    "    end_time = time.time()\n",
    "    elapsed_time = end_time - start_time\n",
    "    minutes, seconds = divmod(elapsed_time, 60)\n",
    "    \n",
    "    print(f\"Finish training {name} (cv) Time: {int(minutes)} min {seconds:.2f} sec\")\n",
    "    \n",
    "report_cv_df = pd.DataFrame(reports_cv)"
   ]
  },
  {
   "cell_type": "code",
   "execution_count": 30,
   "id": "637bb793",
   "metadata": {},
   "outputs": [
    {
     "data": {
      "text/html": [
       "<div>\n",
       "<style scoped>\n",
       "    .dataframe tbody tr th:only-of-type {\n",
       "        vertical-align: middle;\n",
       "    }\n",
       "\n",
       "    .dataframe tbody tr th {\n",
       "        vertical-align: top;\n",
       "    }\n",
       "\n",
       "    .dataframe thead th {\n",
       "        text-align: right;\n",
       "    }\n",
       "</style>\n",
       "<table border=\"1\" class=\"dataframe\">\n",
       "  <thead>\n",
       "    <tr style=\"text-align: right;\">\n",
       "      <th></th>\n",
       "      <th>Model</th>\n",
       "      <th>Accuracy Mean</th>\n",
       "      <th>Accuracy Std</th>\n",
       "      <th>F1 Mean</th>\n",
       "      <th>F1 Std</th>\n",
       "      <th>ROC AUC Mean</th>\n",
       "      <th>ROC AUC Std</th>\n",
       "      <th>Fit Time Mean (s)</th>\n",
       "      <th>Fit Time Std (s)</th>\n",
       "      <th>Score Time Mean (s)</th>\n",
       "      <th>Score Time Std (s)</th>\n",
       "    </tr>\n",
       "  </thead>\n",
       "  <tbody>\n",
       "    <tr>\n",
       "      <th>0</th>\n",
       "      <td>MLP</td>\n",
       "      <td>0.991046</td>\n",
       "      <td>0.000861</td>\n",
       "      <td>0.991442</td>\n",
       "      <td>0.000829</td>\n",
       "      <td>0.999461</td>\n",
       "      <td>0.000143</td>\n",
       "      <td>4646.621222</td>\n",
       "      <td>1658.745105</td>\n",
       "      <td>120.750430</td>\n",
       "      <td>44.964998</td>\n",
       "    </tr>\n",
       "    <tr>\n",
       "      <th>1</th>\n",
       "      <td>LightGBM</td>\n",
       "      <td>0.993808</td>\n",
       "      <td>0.001269</td>\n",
       "      <td>0.994079</td>\n",
       "      <td>0.001215</td>\n",
       "      <td>0.999776</td>\n",
       "      <td>0.000054</td>\n",
       "      <td>278.044450</td>\n",
       "      <td>16.556033</td>\n",
       "      <td>75.872822</td>\n",
       "      <td>8.039162</td>\n",
       "    </tr>\n",
       "    <tr>\n",
       "      <th>2</th>\n",
       "      <td>LR</td>\n",
       "      <td>0.991336</td>\n",
       "      <td>0.000702</td>\n",
       "      <td>0.991714</td>\n",
       "      <td>0.000673</td>\n",
       "      <td>0.999338</td>\n",
       "      <td>0.000197</td>\n",
       "      <td>149.884930</td>\n",
       "      <td>0.504748</td>\n",
       "      <td>72.872455</td>\n",
       "      <td>0.853210</td>\n",
       "    </tr>\n",
       "  </tbody>\n",
       "</table>\n",
       "</div>"
      ],
      "text/plain": [
       "      Model  Accuracy Mean  Accuracy Std   F1 Mean    F1 Std  ROC AUC Mean  \\\n",
       "0       MLP       0.991046      0.000861  0.991442  0.000829      0.999461   \n",
       "1  LightGBM       0.993808      0.001269  0.994079  0.001215      0.999776   \n",
       "2        LR       0.991336      0.000702  0.991714  0.000673      0.999338   \n",
       "\n",
       "   ROC AUC Std  Fit Time Mean (s)  Fit Time Std (s)  Score Time Mean (s)  \\\n",
       "0     0.000143        4646.621222       1658.745105           120.750430   \n",
       "1     0.000054         278.044450         16.556033            75.872822   \n",
       "2     0.000197         149.884930          0.504748            72.872455   \n",
       "\n",
       "   Score Time Std (s)  \n",
       "0           44.964998  \n",
       "1            8.039162  \n",
       "2            0.853210  "
      ]
     },
     "execution_count": 30,
     "metadata": {},
     "output_type": "execute_result"
    }
   ],
   "source": [
    "report_cv_df"
   ]
  },
  {
   "cell_type": "markdown",
   "id": "383c1fc1",
   "metadata": {},
   "source": [
    "🔔 Cross Validation insight:\n",
    "\n",
    "Even with cross vaildation the model **LightGBM** has the best performance and isn't susceptible to overfitting because the metrics are praticaly the same."
   ]
  },
  {
   "cell_type": "markdown",
   "id": "bf006ce0",
   "metadata": {},
   "source": [
    "## Grid Search"
   ]
  },
  {
   "cell_type": "code",
   "execution_count": null,
   "id": "4eb04952",
   "metadata": {},
   "outputs": [
    {
     "name": "stdout",
     "output_type": "stream",
     "text": [
      "Fitting 5 folds for each of 3 candidates, totalling 15 fits\n",
      "Best params: {'lgbm__n_estimators': 300}\n",
      "Best score: 0.9940089732277215\n"
     ]
    }
   ],
   "source": [
    "# Parameters\n",
    "param_grid = {'lgbm__max_depth': [-1, 10, 20]}\n",
    "\n",
    "name, model, scaler = extract_params(List_Classification_Models, 'LightGBM')\n",
    "name = 'lgbm'\n",
    "pipe = make_pipeline(name, model, scaler, \n",
    "                         vectorizer='passthrough', \n",
    "                         preprocessor=column_transformer, \n",
    "                         random_seed=random_seed)\n",
    "\n",
    "cv = StratifiedKFold(n_splits=5, shuffle=True, random_state=42)\n",
    "\n",
    "scoring = {\n",
    "    'f1': make_scorer(f1_score),\n",
    "    'accuracy': 'accuracy',\n",
    "    'roc_auc': 'roc_auc'\n",
    "}\n",
    "\n",
    "# Grid Search\n",
    "grid_search = GridSearchCV(\n",
    "    pipe,\n",
    "    param_grid=param_grid,\n",
    "    cv=cv,\n",
    "    scoring='f1',\n",
    "    n_jobs=-1,\n",
    "    verbose=2\n",
    ")\n",
    "\n",
    "grid_search.fit(X_2, y_2)  \n",
    "\n",
    "print(\"Best params:\", grid_search.best_params_)\n",
    "print(\"Best score:\", grid_search.best_score_)\n"
   ]
  },
  {
   "cell_type": "markdown",
   "id": "cb366dca",
   "metadata": {},
   "source": [
    "# Export Pipeline"
   ]
  },
  {
   "cell_type": "code",
   "execution_count": null,
   "id": "2a4acbb1",
   "metadata": {},
   "outputs": [
    {
     "data": {
      "text/plain": [
       "['fake_news_detector.pkl']"
      ]
     },
     "execution_count": 27,
     "metadata": {},
     "output_type": "execute_result"
    }
   ],
   "source": [
    "column_transformer = ColumnTransformer(transformers=[\n",
    "    ('title_tfidf', Pipeline([\n",
    "        ('prep', TextPreprocessor(output='string')),\n",
    "        ('tfidf', TfidfVectorizer())\n",
    "    ]), 'title'),\n",
    "    \n",
    "    ('text_tfidf', Pipeline([\n",
    "        ('prep', TextPreprocessor(output='string')),\n",
    "        ('tfidf', TfidfVectorizer())\n",
    "    ]), 'text'),\n",
    "])\n",
    "name = 'LightGBM'\n",
    "model = LGBMClassifier(objective='binary',\n",
    "                        n_estimators=300,\n",
    "                        learning_rate=0.1,\n",
    "                        num_leaves=31,           \n",
    "                        subsample=0.8,\n",
    "                        colsample_bytree=0.8,\n",
    "                        max_depth=20,\n",
    "                        verbosity=-1,\n",
    "                        random_state=0)\n",
    "final_pipeline = Pipeline([\n",
    "        ('preprocessing', column_transformer),  \n",
    "        (name, model)\n",
    "])\n",
    "\n",
    "final_pipeline.fit(X_2, y_2)\n",
    "\n",
    "joblib.dump(final_pipeline, 'fake_news_detector.pkl')\n"
   ]
  },
  {
   "cell_type": "code",
   "execution_count": null,
   "id": "5b87bbf4",
   "metadata": {},
   "outputs": [],
   "source": [
    "custom_code = '''\n",
    "from sklearn.base import BaseEstimator, TransformerMixin\n",
    "from nltk.corpus import stopwords\n",
    "from nltk.stem import WordNetLemmatizer\n",
    "from gensim.utils import simple_preprocess\n",
    "\n",
    "\n",
    "class TextPreprocessor(BaseEstimator, TransformerMixin):\n",
    "    def __init__(self, output='string'):\n",
    "        \"\"\"\n",
    "        output: 'string' → return a string (for TF-IDF)\n",
    "                'tokens' → return a list of tokens (for Word2Vec)\n",
    "        \"\"\"\n",
    "        self.output = output\n",
    "\n",
    "    def fit(self, X, y=None):\n",
    "        return self\n",
    "\n",
    "    def transform(self, X):\n",
    "        from nltk.corpus import stopwords\n",
    "        from nltk.stem import WordNetLemmatizer\n",
    "        stop_words = set(stopwords.words('english'))\n",
    "        lemmatizer = WordNetLemmatizer()\n",
    "        \n",
    "        def preprocess(text):\n",
    "            tokens = simple_preprocess(text, deacc=True, min_len=3)\n",
    "            tokens = [t for t in tokens if t not in stop_words]\n",
    "            tokens = [lemmatizer.lemmatize(t) for t in tokens]\n",
    "            if self.output == 'string':\n",
    "                return ' '.join(tokens)\n",
    "            elif self.output == 'tokens':\n",
    "                return tokens\n",
    "            else:\n",
    "                raise ValueError(\"output must be 'string' or 'tokens'\")\n",
    "\n",
    "        return X.apply(preprocess)\n",
    "'''\n",
    "\n",
    "with open(\"custom_transformer.py\", \"w\") as f:\n",
    "    f.write(custom_code)"
   ]
  },
  {
   "cell_type": "markdown",
   "id": "89f8e298",
   "metadata": {},
   "source": [
    "## Try the model"
   ]
  },
  {
   "cell_type": "code",
   "execution_count": null,
   "id": "e200eee9",
   "metadata": {},
   "outputs": [
    {
     "data": {
      "text/html": [
       "<div>\n",
       "<style scoped>\n",
       "    .dataframe tbody tr th:only-of-type {\n",
       "        vertical-align: middle;\n",
       "    }\n",
       "\n",
       "    .dataframe tbody tr th {\n",
       "        vertical-align: top;\n",
       "    }\n",
       "\n",
       "    .dataframe thead th {\n",
       "        text-align: right;\n",
       "    }\n",
       "</style>\n",
       "<table border=\"1\" class=\"dataframe\">\n",
       "  <thead>\n",
       "    <tr style=\"text-align: right;\">\n",
       "      <th></th>\n",
       "      <th>title</th>\n",
       "      <th>text</th>\n",
       "    </tr>\n",
       "  </thead>\n",
       "  <tbody>\n",
       "    <tr>\n",
       "      <th>42337</th>\n",
       "      <td>OBAMA GIVES ILLEGAL ALIENS IN FLINT, MI Amnest...</td>\n",
       "      <td>Because people who scale border walls and brea...</td>\n",
       "    </tr>\n",
       "  </tbody>\n",
       "</table>\n",
       "</div>"
      ],
      "text/plain": [
       "                                                   title  \\\n",
       "42337  OBAMA GIVES ILLEGAL ALIENS IN FLINT, MI Amnest...   \n",
       "\n",
       "                                                    text  \n",
       "42337  Because people who scale border walls and brea...  "
      ]
     },
     "metadata": {},
     "output_type": "display_data"
    },
    {
     "name": "stdout",
     "output_type": "stream",
     "text": [
      "Model prediction = [1], News tag = fake\n"
     ]
    }
   ],
   "source": [
    "num = random.randint(0, 44898)\n",
    "test = df.loc[num]\n",
    "col= ['title', 'text']\n",
    "y_test = test['label']\n",
    "test = pd.DataFrame(test[col]).transpose()\n",
    "display(test)\n",
    "y_pred = final_pipeline.predict(test)\n",
    "print(f\"Model prediction = {y_pred}, News tag = {y_test}\")"
   ]
  },
  {
   "cell_type": "markdown",
   "id": "2164e444",
   "metadata": {},
   "source": [
    "# Conclusions"
   ]
  },
  {
   "cell_type": "markdown",
   "id": "6fe5d480",
   "metadata": {},
   "source": [
    "In the analysis above we saw that some information as: lenght of the title, presence of some particular words (or better entities) or the sentiment expressed are signal that can guide us in the detenction of a fake news.\n",
    "\n",
    "After the analysis of models including just the *text* feature and with *text* and *title* features, the second group reached better perfomance even if only slightly.\n",
    "\n",
    "Talking about the final predictive model the choice went on the **LightGBM** that showed the best performance even with cross validation with an *accuracy* of 99.38% and a *f1 score* of 99.40%.\n",
    "\n",
    "To avoid the the chance of overfitting and have always a reliable tool the model needs to be update when new data are available.\n",
    "\n",
    "To improve the model a further work could consider:\n",
    "- more feature as date, subject of the news (given by a topic model in a homogeneous way for real and fake news)\n",
    "- other predictive models as SVM (very computational expensive)\n",
    "- perform a grid search not only on the best model but even on others that have similar performance metrics\n",
    "- perform a grid search on more parameters to consider a greater number of scenarios \n",
    "- use of vectorization with the model word2vec (to train on our data or using a pre trained model) joined with a MLP classifier\n",
    "\n",
    "All these options require much more time to be tested and more than that require many computational resources.\n",
    "\n",
    "The model delivered in the file **fake_news_detector.pkl** reached the compromise of being accurate and lean in the same time.\n",
    "\n",
    "N.B. : Having created custum object as the *TextPreprocessor* it's necessary that the ML engineer and Web Development team make sure that all the dependencies are satisfied, to avoid errors on loading the model. For this scope it would be a good practice create a .py file where are defined all the custum objects (like *custom_trasformer.py*)."
   ]
  },
  {
   "cell_type": "markdown",
   "id": "7c055f31",
   "metadata": {},
   "source": []
  }
 ],
 "metadata": {
  "kernelspec": {
   "display_name": "fake_news_venv",
   "language": "python",
   "name": "python3"
  },
  "language_info": {
   "codemirror_mode": {
    "name": "ipython",
    "version": 3
   },
   "file_extension": ".py",
   "mimetype": "text/x-python",
   "name": "python",
   "nbconvert_exporter": "python",
   "pygments_lexer": "ipython3",
   "version": "3.12.7"
  }
 },
 "nbformat": 4,
 "nbformat_minor": 5
}
