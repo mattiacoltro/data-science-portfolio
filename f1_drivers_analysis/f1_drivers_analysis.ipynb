{
 "cells": [
  {
   "cell_type": "markdown",
   "id": "1680e405",
   "metadata": {},
   "source": [
    "# Formula 1 drivers analysis"
   ]
  },
  {
   "cell_type": "markdown",
   "id": "5d8cf7de",
   "metadata": {},
   "source": [
    "## Project description\n",
    "\n",
    "F1 Analytics specializes in analyzing the performance of drivers and teams in the world of Formula 1. The goal of this project is to analyze the results of the 2008 Formula 1 World Championship season using the data contained in the formula1_data.csv file.\n",
    "\n",
    "This file contains detailed information about drivers, manufacturers, cities, and countries of Grand Prix races, as well as the finishing order of each driver. Based on this data, various functions will be implemented to provide an in-depth analysis of points, wins, and podium finishes at both the individual and manufacturer levels.\n",
    "\n",
    "\n",
    "## Dataset\n",
    "\n",
    "The dataset formula1_data.csv (downloadable from here: https://proai-datasets.s3.eu-west-3.amazonaws.com/formula1_data.csv) contains the following columns:\n",
    "1. **Driver**: Name of the driver.\n",
    "2. **Team**: Name of the manufacturer for which the driver competes.\n",
    "3. **Race**: City where the Grand Prix took place.\n",
    "4. **Country**: Country where the Grand Prix took place.\n",
    "5. **Position**: Number between 0 and 8 indicating the driver's finishing order (0 means that the driver did not finish in the top 8 and did not score any points).\n",
    "\n",
    "## Scoring system\n",
    "\n",
    "At the end of each Grand Prix, points are awarded to drivers based on their finishing order as follows: \n",
    "- 1st place: 10 points \n",
    "- 2nd place: 8 points \n",
    "- 3rd place: 6 points \n",
    "- 4th place: 5 points \n",
    "- 5th place: 4 points \n",
    "- 6th place: 3 points \n",
    "- 7th place: 2 points \n",
    "- 8th place: 1 point \n",
    "- 9th place or lower: 0 points\n",
    "\n",
    "## Project objectives\n",
    "\n",
    "The project involves the implementation of the following features:\n",
    "\n",
    "1. Function for analyzing **individual driver performance**\n",
    "\n",
    "    The first function receives a driver's name as input and returns a list containing three key pieces of information:\n",
    "    - The total points accumulated by the driver during the championship.\n",
    "    - The number of wins, i.e., how many times the driver finished first in a Grand Prix. \n",
    "    - The number of podium finishes, i.e., how many times the driver finished in the top three. This function will be useful for analyzing the individual performance of drivers and providing a clear overview of their positions throughout the season.\n",
    "\n",
    "2. Function for creating the **final driver standings**\n",
    "\n",
    "    The second function generates a dictionary containing the names of the drivers as keys and their total scores as values. The dictionary is then used to create an overall driver standings.\n",
    "    Finally, the standings will be saved in a text file (Drivers_Standings_2008.txt) with the\n",
    "    following format:\n",
    "\n",
    "    Drivers Standings 2008 Formula 1\n",
    "    DriverName1: TotalPoints\n",
    "    DriverName2: TotalPoints\n",
    "\n",
    "3. Function for the **constructors' standings**\n",
    "\n",
    "    The third function creates a dictionary with the names of the teams/constructors as keys and their total scores as values. Each team's score is the sum of the points obtained by the drivers who competed for that constructor.\n",
    "    This function uses the data previously generated for the drivers and calculates the constructors' standings. This information is also essential for gaining a clear picture of the teams' performance throughout the year.\n"
   ]
  },
  {
   "cell_type": "markdown",
   "id": "644a6fee",
   "metadata": {},
   "source": [
    "# Analysis"
   ]
  },
  {
   "cell_type": "markdown",
   "id": "34f78e05",
   "metadata": {},
   "source": [
    "## Import"
   ]
  },
  {
   "cell_type": "code",
   "execution_count": 92,
   "id": "d49f24d7",
   "metadata": {},
   "outputs": [],
   "source": [
    "import pandas as pd\n",
    "import numpy as np\n",
    "import matplotlib as plt"
   ]
  },
  {
   "cell_type": "markdown",
   "id": "9d7e3ced",
   "metadata": {},
   "source": [
    "## Load dataset"
   ]
  },
  {
   "cell_type": "code",
   "execution_count": 93,
   "id": "c129b52f",
   "metadata": {},
   "outputs": [],
   "source": [
    "path = \"https://proai-datasets.s3.eu-west-3.amazonaws.com/formula1_data.csv\"\n",
    "df = pd.read_csv(path)"
   ]
  },
  {
   "cell_type": "code",
   "execution_count": 94,
   "id": "5eb1535e",
   "metadata": {},
   "outputs": [
    {
     "data": {
      "text/html": [
       "<div>\n",
       "<style scoped>\n",
       "    .dataframe tbody tr th:only-of-type {\n",
       "        vertical-align: middle;\n",
       "    }\n",
       "\n",
       "    .dataframe tbody tr th {\n",
       "        vertical-align: top;\n",
       "    }\n",
       "\n",
       "    .dataframe thead th {\n",
       "        text-align: right;\n",
       "    }\n",
       "</style>\n",
       "<table border=\"1\" class=\"dataframe\">\n",
       "  <thead>\n",
       "    <tr style=\"text-align: right;\">\n",
       "      <th></th>\n",
       "      <th>Driver</th>\n",
       "      <th>Team</th>\n",
       "      <th>Race</th>\n",
       "      <th>Country</th>\n",
       "      <th>Position</th>\n",
       "    </tr>\n",
       "  </thead>\n",
       "  <tbody>\n",
       "    <tr>\n",
       "      <th>0</th>\n",
       "      <td>Hamilton</td>\n",
       "      <td>McLaren</td>\n",
       "      <td>Melbourne</td>\n",
       "      <td>Australia</td>\n",
       "      <td>1</td>\n",
       "    </tr>\n",
       "    <tr>\n",
       "      <th>1</th>\n",
       "      <td>Massa</td>\n",
       "      <td>Ferrari</td>\n",
       "      <td>Melbourne</td>\n",
       "      <td>Australia</td>\n",
       "      <td>0</td>\n",
       "    </tr>\n",
       "    <tr>\n",
       "      <th>2</th>\n",
       "      <td>Raikkonen</td>\n",
       "      <td>Ferrari</td>\n",
       "      <td>Melbourne</td>\n",
       "      <td>Australia</td>\n",
       "      <td>8</td>\n",
       "    </tr>\n",
       "    <tr>\n",
       "      <th>3</th>\n",
       "      <td>Kubica</td>\n",
       "      <td>BMW</td>\n",
       "      <td>Melbourne</td>\n",
       "      <td>Australia</td>\n",
       "      <td>0</td>\n",
       "    </tr>\n",
       "    <tr>\n",
       "      <th>4</th>\n",
       "      <td>Alonso</td>\n",
       "      <td>Renault</td>\n",
       "      <td>Melbourne</td>\n",
       "      <td>Australia</td>\n",
       "      <td>4</td>\n",
       "    </tr>\n",
       "  </tbody>\n",
       "</table>\n",
       "</div>"
      ],
      "text/plain": [
       "      Driver     Team       Race    Country  Position\n",
       "0   Hamilton  McLaren  Melbourne  Australia         1\n",
       "1      Massa  Ferrari  Melbourne  Australia         0\n",
       "2  Raikkonen  Ferrari  Melbourne  Australia         8\n",
       "3     Kubica      BMW  Melbourne  Australia         0\n",
       "4     Alonso  Renault  Melbourne  Australia         4"
      ]
     },
     "execution_count": 94,
     "metadata": {},
     "output_type": "execute_result"
    }
   ],
   "source": [
    "df.head()"
   ]
  },
  {
   "cell_type": "markdown",
   "id": "a6c85505",
   "metadata": {},
   "source": [
    "## Overview"
   ]
  },
  {
   "cell_type": "code",
   "execution_count": 95,
   "id": "1d9acc67",
   "metadata": {},
   "outputs": [
    {
     "name": "stdout",
     "output_type": "stream",
     "text": [
      "<class 'pandas.core.frame.DataFrame'>\n",
      "RangeIndex: 180 entries, 0 to 179\n",
      "Data columns (total 5 columns):\n",
      " #   Column    Non-Null Count  Dtype \n",
      "---  ------    --------------  ----- \n",
      " 0   Driver    180 non-null    object\n",
      " 1   Team      180 non-null    object\n",
      " 2   Race      180 non-null    object\n",
      " 3   Country   180 non-null    object\n",
      " 4   Position  180 non-null    int64 \n",
      "dtypes: int64(1), object(4)\n",
      "memory usage: 7.2+ KB\n"
     ]
    }
   ],
   "source": [
    "df.info()"
   ]
  },
  {
   "cell_type": "markdown",
   "id": "8ec86b27",
   "metadata": {},
   "source": [
    "There aren't Nan values"
   ]
  },
  {
   "cell_type": "code",
   "execution_count": 96,
   "id": "db5a96e5",
   "metadata": {},
   "outputs": [
    {
     "data": {
      "text/plain": [
       "Driver\n",
       "Hamilton      18\n",
       "Massa         18\n",
       "Raikkonen     18\n",
       "Kubica        18\n",
       "Alonso        18\n",
       "Heidfeld      18\n",
       "Kovalainen    18\n",
       "Vettel        18\n",
       "Trulli        18\n",
       "Glock         18\n",
       "Name: count, dtype: int64"
      ]
     },
     "execution_count": 96,
     "metadata": {},
     "output_type": "execute_result"
    }
   ],
   "source": [
    "df['Driver'].value_counts()"
   ]
  },
  {
   "cell_type": "code",
   "execution_count": 97,
   "id": "a4d4dddf",
   "metadata": {},
   "outputs": [
    {
     "data": {
      "text/plain": [
       "Race\n",
       "Melbourne      10\n",
       "Sepang         10\n",
       "Sakhir         10\n",
       "Barcellona     10\n",
       "Istanbul       10\n",
       "Montecarlo     10\n",
       "Montreal       10\n",
       "Magny-Cours    10\n",
       "Silverstone    10\n",
       "Hockenheim     10\n",
       "Hungaroring    10\n",
       "Valencia       10\n",
       "Spa            10\n",
       "Monza          10\n",
       "Singapore      10\n",
       "Fuji           10\n",
       "Shangai        10\n",
       "Interlagos     10\n",
       "Name: count, dtype: int64"
      ]
     },
     "execution_count": 97,
     "metadata": {},
     "output_type": "execute_result"
    }
   ],
   "source": [
    "df['Race'].value_counts()"
   ]
  },
  {
   "cell_type": "code",
   "execution_count": 98,
   "id": "c5715e84",
   "metadata": {},
   "outputs": [
    {
     "data": {
      "text/plain": [
       "array(['McLaren', 'Ferrari', 'BMW', 'Renault', 'Toro Rosso', 'Toyota'],\n",
       "      dtype=object)"
      ]
     },
     "execution_count": 98,
     "metadata": {},
     "output_type": "execute_result"
    }
   ],
   "source": [
    "df['Team'].unique()"
   ]
  },
  {
   "cell_type": "markdown",
   "id": "4a4976c1",
   "metadata": {},
   "source": [
    "# Analysis with only functions"
   ]
  },
  {
   "cell_type": "markdown",
   "id": "e88947c6",
   "metadata": {},
   "source": [
    "For this analysis I'll use a copy of the original df"
   ]
  },
  {
   "cell_type": "code",
   "execution_count": 99,
   "id": "b0f36fd9",
   "metadata": {},
   "outputs": [],
   "source": [
    "df1=df.copy()"
   ]
  },
  {
   "cell_type": "code",
   "execution_count": 100,
   "id": "87c886b3",
   "metadata": {},
   "outputs": [],
   "source": [
    "position_to_points = {0:0, 1:10, 2:8, 3:6, 4:5, 5:4, 6:3, 7:2, 8:1}\n",
    "df1['Points'] = df1['Position'].map(position_to_points)"
   ]
  },
  {
   "cell_type": "code",
   "execution_count": 101,
   "id": "c18258b1",
   "metadata": {},
   "outputs": [],
   "source": [
    "def competitor_info(competitor:str, name:str)->pd.DataFrame:\n",
    "    '''\n",
    "    Return the df with only the records related to the choosen competitor\n",
    "    :params competitor can be 'Driver' or 'Team'\n",
    "    :params name: of the single competitor\n",
    "    '''\n",
    "    if competitor not in ['Driver', 'Team']:\n",
    "        print(\"Input error: insert 'Driver' or 'Team'\")\n",
    "        return None\n",
    "    else: \n",
    "        df_comp = df1[df1[competitor]==name]\n",
    "        return df_comp"
   ]
  },
  {
   "cell_type": "code",
   "execution_count": 102,
   "id": "7d248920",
   "metadata": {},
   "outputs": [],
   "source": [
    "def get_wins(data_series):\n",
    "    '''\n",
    "    Return the number of wins in a given dataset of results\n",
    "    '''\n",
    "    df_first_place = data_series[data_series['Position']==1]\n",
    "    wins = df_first_place['Position'].count()\n",
    "    \n",
    "    return wins"
   ]
  },
  {
   "cell_type": "code",
   "execution_count": 103,
   "id": "ff9c9f4a",
   "metadata": {},
   "outputs": [],
   "source": [
    "def get_podiums(data_series):\n",
    "    '''\n",
    "    Return the number of podiums in a given dataset of results\n",
    "    '''\n",
    "    df_podiums = data_series[(data_series['Position']>0) & (data_series['Position']<4)]\n",
    "    podiums = df_podiums['Position'].count()\n",
    "    \n",
    "    return podiums"
   ]
  },
  {
   "cell_type": "code",
   "execution_count": 104,
   "id": "cf7950b5",
   "metadata": {},
   "outputs": [],
   "source": [
    "def get_performance(competitor:str, name:str, print_info=True):\n",
    "    '''\n",
    "    Return a list with the summary of the driver performances along the champioship: \n",
    "    total points, number of wins, number of podiums\n",
    "    '''\n",
    "    if competitor not in ['Driver', 'Team']:\n",
    "        print(\"Input error: insert 'Driver' or 'Team'\")\n",
    "        return None\n",
    "    else: \n",
    "        df_comp = competitor_info(competitor,name)\n",
    "        \n",
    "        points_champ = sum(df_comp['Points'])\n",
    "        wins = get_wins(df_comp)\n",
    "        podiums = get_podiums(df_comp)\n",
    "        if print_info:\n",
    "            print(f\"The {competitor} {name} made {points_champ} points in the 2008 championship with {wins} wins and {podiums} podiums\")\n",
    "        \n",
    "        return [points_champ, wins, podiums]"
   ]
  },
  {
   "cell_type": "code",
   "execution_count": 105,
   "id": "2bb9ca00",
   "metadata": {},
   "outputs": [],
   "source": [
    "def get_competitor_list(competitor:str, data:pd.DataFrame)->list:\n",
    "    '''\n",
    "    Return a list with the names of the competitor in the dataset in input\n",
    "    :params competitor can be 'Driver' or 'Team'\n",
    "    '''\n",
    "    if competitor not in ['Driver', 'Team']:\n",
    "        print(\"Input error: insert 'Driver' or 'Team'\")\n",
    "        return None\n",
    "    else: \n",
    "        names = data[competitor].unique().tolist()\n",
    "        return names"
   ]
  },
  {
   "cell_type": "code",
   "execution_count": 106,
   "id": "089d0c3a",
   "metadata": {},
   "outputs": [],
   "source": [
    "def final_standings(competitor:str)->dict:\n",
    "    '''\n",
    "    Return the dict as {competitor_name:points} descending sorted\n",
    "    Create a file txt on which is printed the standings\n",
    "    :params competitor can be 'Driver' or 'Team'\n",
    "    '''\n",
    "    if competitor not in ['Driver', 'Team']:\n",
    "        print(\"Input error: insert 'Driver' or 'Team'\")\n",
    "        return None\n",
    "    else: \n",
    "        standings_dict={}\n",
    "        comp_names = get_competitor_list(competitor, df1)\n",
    "        for name in comp_names:\n",
    "            points = get_performance(competitor, name, print_info=False)[0]\n",
    "            standings_dict[name]=points\n",
    "        \n",
    "        #sort the dict\n",
    "        standings_dict = {k: v for k, v in sorted(standings_dict.items(), key=lambda item: item[1], reverse=True)} \n",
    "\n",
    "        #write the standing on a txt file\n",
    "        with open(f\"{competitor}_Standings_2008.txt\", \"w\") as f:\n",
    "            f.write(f\"{competitor} Standings 2008 Formula 1 \\n\")\n",
    "            for d, p in standings_dict.items():\n",
    "                f.write(f\"{d}: {p}\\n\")\n",
    "        \n",
    "    return standings_dict"
   ]
  },
  {
   "cell_type": "markdown",
   "id": "18ea57e0",
   "metadata": {},
   "source": [
    "## 1. Individual driver performance"
   ]
  },
  {
   "cell_type": "code",
   "execution_count": 110,
   "id": "14f17e6e",
   "metadata": {},
   "outputs": [
    {
     "name": "stdout",
     "output_type": "stream",
     "text": [
      "The Driver Hamilton made 98 points in the 2008 championship with 5 wins and 10 podiums\n"
     ]
    },
    {
     "data": {
      "text/plain": [
       "[98, np.int64(5), np.int64(10)]"
      ]
     },
     "execution_count": 110,
     "metadata": {},
     "output_type": "execute_result"
    }
   ],
   "source": [
    "driver = 'Hamilton'\n",
    "hamilton_info = get_performance('Driver', driver)\n",
    "hamilton_info"
   ]
  },
  {
   "cell_type": "markdown",
   "id": "f1a45709",
   "metadata": {},
   "source": [
    "## 2. Final standing"
   ]
  },
  {
   "cell_type": "code",
   "execution_count": 108,
   "id": "f226474a",
   "metadata": {},
   "outputs": [
    {
     "data": {
      "text/plain": [
       "{'Hamilton': 98,\n",
       " 'Massa': 97,\n",
       " 'Raikkonen': 75,\n",
       " 'Kubica': 75,\n",
       " 'Alonso': 61,\n",
       " 'Heidfeld': 60,\n",
       " 'Kovalainen': 53,\n",
       " 'Vettel': 35,\n",
       " 'Trulli': 31,\n",
       " 'Glock': 25}"
      ]
     },
     "execution_count": 108,
     "metadata": {},
     "output_type": "execute_result"
    }
   ],
   "source": [
    "d = final_standings('Driver')\n",
    "d"
   ]
  },
  {
   "cell_type": "markdown",
   "id": "b8bc14fb",
   "metadata": {},
   "source": [
    "## 3. Team standings"
   ]
  },
  {
   "cell_type": "code",
   "execution_count": 109,
   "id": "8c875857",
   "metadata": {},
   "outputs": [
    {
     "data": {
      "text/plain": [
       "{'Ferrari': 172,\n",
       " 'McLaren': 151,\n",
       " 'BMW': 135,\n",
       " 'Renault': 61,\n",
       " 'Toyota': 56,\n",
       " 'Toro Rosso': 35}"
      ]
     },
     "execution_count": 109,
     "metadata": {},
     "output_type": "execute_result"
    }
   ],
   "source": [
    "t = final_standings('Team')\n",
    "t"
   ]
  },
  {
   "cell_type": "markdown",
   "id": "fffe92dd",
   "metadata": {},
   "source": [
    "# Analysis with Classes"
   ]
  },
  {
   "cell_type": "code",
   "execution_count": 22,
   "id": "e90006da",
   "metadata": {},
   "outputs": [],
   "source": [
    "class F1_champ:\n",
    "    '''\n",
    "    Class that model the F1 championship\n",
    "    '''\n",
    "    def __init__(self, year:int=None):\n",
    "        self.year = year      \n",
    "        self.drivers = {}         #list of drivers in that championship\n",
    "        self.teams = {}           #list of teams in that championship\n",
    "        self.races = {}           #list of races in that championship\n",
    "        self.competitors = {'Drivers':self.drivers, 'Teams':self.teams}\n",
    "        \n",
    "    def __repr__(self) -> str:\n",
    "        return f\"{self.year} Formula 1 championship\"\n",
    "    \n",
    "    def get_standings_dict(self, stand_obj:str)->dict:\n",
    "        '''\n",
    "        Return the sorted dictionary (standings) of the objects in collection\n",
    "        Sort is based on total points\n",
    "        :params stand_obj: 'Drivers' or 'Teams' as the F1_champ.collection keys\n",
    "        '''\n",
    "        obj_dict = self.competitors[stand_obj]\n",
    "        dict_with_points = {obj.name: obj.total_points() for _,obj in obj_dict.items()}\n",
    "        standings  = {k: v for k, v in sorted(dict_with_points.items(), \n",
    "                key=lambda item: item[1], reverse=True)} \n",
    "\n",
    "        return standings\n",
    "    \n",
    "    def final_standings(self, competitor:str = 'Drivers', save:bool=True)->dict:\n",
    "        '''\n",
    "        Return the standings by drivers or teams\n",
    "        Manage the input instertion\n",
    "        :params category: 'Drivers' or 'Teams' which you want to rank\n",
    "        :params save: default True if you want save the standings in a txt file\n",
    "        '''\n",
    "        if competitor in ['Drivers', 'Teams']:\n",
    "            standings = self.get_standings_dict(competitor)\n",
    "        else:\n",
    "            print(\"Input error: insert 'Drivers' or 'Teams'\")\n",
    "            return None\n",
    "        \n",
    "        if save:\n",
    "            title = f\"{competitor} Standings {self.year} Formula 1\"\n",
    "            create_file_txt(standings, title)\n",
    "            \n",
    "        return standings"
   ]
  },
  {
   "cell_type": "code",
   "execution_count": 23,
   "id": "ee83d59e",
   "metadata": {},
   "outputs": [],
   "source": [
    "class Competitor:\n",
    "    '''\n",
    "    Model of the F1 championship competitors (drivers and teams) \n",
    "    with the same attributes (name, results) and methods \n",
    "    '''\n",
    "    \n",
    "    def __init__(self, name:str):\n",
    "        self.name = name\n",
    "        self.results = []\n",
    "    \n",
    "    def get_podiums(self) -> int:\n",
    "        '''\n",
    "        Return the number of podiums (final position between 1 and 3) along the champioship\n",
    "        '''\n",
    "        podiums = len([r.position for r in self.results if r.position>0 and r.position<4])\n",
    "        return podiums\n",
    "\n",
    "    def get_wins(self) -> int:\n",
    "        '''\n",
    "        Return the number of wins (final position 1) along the champioship\n",
    "        '''\n",
    "        wins = len([r.position for r in self.results if r.position>0 and r.position<2])\n",
    "        return wins\n",
    "\n",
    "    def total_points(self) -> int:\n",
    "        '''\n",
    "        Return the total points of a competitor along the champioship\n",
    "        '''\n",
    "        points = sum(self.results[i].points for i in range(0,len(self.results)))\n",
    "        return points\n",
    "        \n",
    "    def get_performance(self) -> list:\n",
    "        '''\n",
    "        Return a list of the performance of a competitor: \n",
    "        total points, number of wins, number of podiums\n",
    "        '''\n",
    "        points = self.total_points()\n",
    "        wins = self.get_wins()\n",
    "        podiums = self.get_podiums()\n",
    "\n",
    "        return [points, wins, podiums]"
   ]
  },
  {
   "cell_type": "code",
   "execution_count": 24,
   "id": "7809d621",
   "metadata": {},
   "outputs": [],
   "source": [
    "class Team(Competitor):\n",
    "    '''\n",
    "    Model a F1 team\n",
    "    attributes: name, set of drivers in the team , list of results \n",
    "    '''\n",
    "    def __init__(self, name:str):\n",
    "        super().__init__(name)\n",
    "        self.drivers = set()\n",
    "        self.results = []\n",
    "        \n",
    "    def add_driver(self, driver:str) -> None:\n",
    "        self.drivers.add(driver)\n",
    "        \n",
    "    def __repr__(self) -> str:\n",
    "        return self.name\n",
    "            "
   ]
  },
  {
   "cell_type": "code",
   "execution_count": 25,
   "id": "56cb3868",
   "metadata": {},
   "outputs": [],
   "source": [
    "class Driver(Competitor):\n",
    "    '''\n",
    "    Model a F1 driver\n",
    "    attributes: name, belonging team, list of results \n",
    "    '''\n",
    "    \n",
    "    def __init__(self, name:str, team:Team):\n",
    "        super().__init__(name)\n",
    "        self.team = team\n",
    "        \n",
    "    def __repr__(self) -> str:\n",
    "        return self.name\n",
    "        \n",
    "    "
   ]
  },
  {
   "cell_type": "code",
   "execution_count": 26,
   "id": "356bd513",
   "metadata": {},
   "outputs": [],
   "source": [
    "class Race():\n",
    "    '''\n",
    "    Model a F1 race with attirbutes name, country, results\n",
    "    '''\n",
    "    \n",
    "    def __init__(self, name:str, country:str):\n",
    "         \n",
    "        self.name = name\n",
    "        self.country = country\n",
    "        self.results = []\n",
    "        \n",
    "    def __repr__(self) -> str:\n",
    "        return self.name\n",
    "    \n",
    "    def get_standings(self, save:bool=False)->dict:\n",
    "        '''\n",
    "        Return the dictionary as {driver:position} in a race\n",
    "        :params save: default False, if True save the standings of the race in a txt file\n",
    "        '''\n",
    "        standings_dict = {result.driver:result.position \n",
    "                          for result in sorted(self.results, reverse=True)}\n",
    "        if save:\n",
    "            title = f\"{self.name} Standings:\\n\"\n",
    "            create_file_txt(standings_dict,title)\n",
    "            \n",
    "        return standings_dict\n",
    "        "
   ]
  },
  {
   "cell_type": "code",
   "execution_count": 27,
   "id": "c74337c2",
   "metadata": {},
   "outputs": [],
   "source": [
    "class Result:\n",
    "    '''\n",
    "    Model the single result \n",
    "    attributes: driver, team, race, position\n",
    "    '''\n",
    "    \n",
    "    def __init__(self, driver:Driver, team:Team, race:Race, position:int):\n",
    "        \n",
    "        points_dict = {0:0, 1:10, 2:8, 3:6, 4:5, 5:4, 6:3, 7:2, 8:1}\n",
    "        \n",
    "        self.driver = driver\n",
    "        self.race = race\n",
    "        self.position = position\n",
    "        self.points = points_dict[position]   # map the attribute points from the position\n",
    "        \n",
    "        driver.results.append(self)\n",
    "        team.results.append(self)\n",
    "        race.results.append(self)\n",
    "        \n",
    "    def __repr__(self) -> str:\n",
    "        return f\"Result -> Race:{self.race}, Driver: {self.driver}, Pos: {self.position}, Points: {self.points})\"\n",
    "    \n",
    "    \n",
    "    def __lt__(self, other):\n",
    "        '''\n",
    "        Allow to sort the result by points\n",
    "        '''\n",
    "        return self.points < other.points\n",
    "    \n",
    "    "
   ]
  },
  {
   "cell_type": "code",
   "execution_count": 28,
   "id": "e7445b25",
   "metadata": {},
   "outputs": [],
   "source": [
    "def load_data(dataset:pd.DataFrame, year:int)->F1_champ:\n",
    "    '''\n",
    "    Create a championship from the data in input\n",
    "    Return an object F1_champ \n",
    "    :params dataset\n",
    "    :params year of the championship\n",
    "    '''\n",
    "\n",
    "    champ=F1_champ(year)\n",
    "\n",
    "    drivers = {}\n",
    "    teams = {}\n",
    "    races = {}\n",
    "    for i, row in dataset.iterrows():\n",
    "        \n",
    "        driver_name, team_name, race_name, country, position = [str(el).strip() for el in row]\n",
    "        position = int(position)\n",
    "        if team_name not in champ.teams:\n",
    "            champ.teams[team_name] = Team(team_name)\n",
    "        team_obj = champ.teams[team_name]\n",
    "        \n",
    "        if driver_name not in champ.drivers:\n",
    "            champ.drivers[driver_name] = Driver(driver_name, team_obj)\n",
    "            team_obj.add_driver(driver_name)\n",
    "        driver_obj = champ.drivers[driver_name]\n",
    "        \n",
    "        \n",
    "        if race_name not in champ.races:\n",
    "            champ.races[race_name] = Race(race_name, country)\n",
    "        race_obj = champ.races[race_name]\n",
    "        \n",
    "        result = Result(\n",
    "            driver=driver_obj, \n",
    "            team=team_obj, \n",
    "            race=race_obj,  \n",
    "            position=position)\n",
    "\n",
    "        \n",
    "    return champ\n"
   ]
  },
  {
   "cell_type": "code",
   "execution_count": 29,
   "id": "fca07c19",
   "metadata": {},
   "outputs": [],
   "source": [
    "def create_file_txt(dict:dict, title:str)->None:\n",
    "    '''\n",
    "    Create a txt file\n",
    "    :param dict: dictionary to save on file\n",
    "    :param title:string to save as title and first row of the file\n",
    "    '''\n",
    "    with open(str(title + \".txt\"), \"w\") as f:\n",
    "        f.write(f\"{title} \\n\")\n",
    "        for k,v in dict.items():\n",
    "            f.write(f\"{k}: {v}\\n\")"
   ]
  },
  {
   "cell_type": "markdown",
   "id": "5e42f0c5",
   "metadata": {},
   "source": [
    "### Test of the classes and functions"
   ]
  },
  {
   "cell_type": "code",
   "execution_count": 30,
   "id": "cfadf8b2",
   "metadata": {},
   "outputs": [
    {
     "ename": "ValueError",
     "evalue": "too many values to unpack (expected 5)",
     "output_type": "error",
     "traceback": [
      "\u001b[31m---------------------------------------------------------------------------\u001b[39m",
      "\u001b[31mValueError\u001b[39m                                Traceback (most recent call last)",
      "\u001b[36mCell\u001b[39m\u001b[36m \u001b[39m\u001b[32mIn[30]\u001b[39m\u001b[32m, line 4\u001b[39m\n\u001b[32m      1\u001b[39m \u001b[38;5;66;03m# main\u001b[39;00m\n\u001b[32m----> \u001b[39m\u001b[32m4\u001b[39m champ = \u001b[43mload_data\u001b[49m\u001b[43m(\u001b[49m\u001b[43mdf\u001b[49m\u001b[43m,\u001b[49m\u001b[43m \u001b[49m\u001b[32;43m2008\u001b[39;49m\u001b[43m)\u001b[49m\n\u001b[32m      5\u001b[39m \u001b[38;5;28mprint\u001b[39m(\u001b[33mf\u001b[39m\u001b[33m\"\u001b[39m\u001b[33mLoaded \u001b[39m\u001b[38;5;132;01m{\u001b[39;00mchamp\u001b[38;5;132;01m}\u001b[39;00m\u001b[33m data\u001b[39m\u001b[33m\"\u001b[39m)\n\u001b[32m      8\u001b[39m \u001b[38;5;66;03m# info on the championship\u001b[39;00m\n",
      "\u001b[36mCell\u001b[39m\u001b[36m \u001b[39m\u001b[32mIn[28]\u001b[39m\u001b[32m, line 16\u001b[39m, in \u001b[36mload_data\u001b[39m\u001b[34m(dataset, year)\u001b[39m\n\u001b[32m     13\u001b[39m races = {}\n\u001b[32m     14\u001b[39m \u001b[38;5;28;01mfor\u001b[39;00m i, row \u001b[38;5;129;01min\u001b[39;00m dataset.iterrows():\n\u001b[32m---> \u001b[39m\u001b[32m16\u001b[39m     driver_name, team_name, race_name, country, position = [\u001b[38;5;28mstr\u001b[39m(el).strip() \u001b[38;5;28;01mfor\u001b[39;00m el \u001b[38;5;129;01min\u001b[39;00m row]\n\u001b[32m     17\u001b[39m     position = \u001b[38;5;28mint\u001b[39m(position)\n\u001b[32m     18\u001b[39m     \u001b[38;5;28;01mif\u001b[39;00m team_name \u001b[38;5;129;01mnot\u001b[39;00m \u001b[38;5;129;01min\u001b[39;00m champ.teams:\n",
      "\u001b[31mValueError\u001b[39m: too many values to unpack (expected 5)"
     ]
    }
   ],
   "source": [
    "# main\n",
    "\n",
    "\n",
    "champ = load_data(df, 2008)\n",
    "print(f\"Loaded {champ} data\")\n",
    "\n",
    "\n",
    "# info on the championship\n",
    "print(f\"Register of drivers in {champ}: \\n {[d for _,d in champ.drivers.items()]}\\n\")\n",
    "print(f\"Register of teams in {champ}: \\n {[t for _,t in champ.teams.items()]}\\n\")\n",
    "print(f\"Register of races in {champ}: \\n {[r for _,r in champ.races.items()]}\")\n",
    "\n",
    "# final standings by driver and team\n",
    "print(f\"\\n\")\n",
    "print(f\"Final Standings for drivers of {champ}:\")\n",
    "for n,p in champ.final_standings('Drivers').items():\n",
    "    print(f\"\\t{n}:{p}\")\n",
    "print(f\"Final Standings for teams of {champ}:\")\n",
    "for n,p in champ.final_standings('Teams').items():\n",
    "    print(f\"\\t{n}:{p}\")\n",
    "\n",
    "\n",
    "# info about driver\n",
    "print(f\"\\n\")\n",
    "driver = champ.drivers['Alonso']\n",
    "perf = driver.get_performance()\n",
    "print(f\"The driver {driver.name} runs for {driver.team}\")\n",
    "print(f\"His results are:\\n\")\n",
    "for r in driver.results:\n",
    "    print(f\"\\t{r}\")\n",
    "print(f\"For a total of:\\n {perf[0]} points\\n {perf[1]} wins\\n {perf[2]} podiums\")\n",
    "\n",
    "# info about team\n",
    "print(f\"\\n\")\n",
    "team = champ.teams['BMW']\n",
    "perf = team.get_performance()\n",
    "print(f\"The team {team.name} has as drivers: {[d for d in team.drivers]} \")\n",
    "print(f\"Its results are:\\n\")\n",
    "for r in team.results:\n",
    "    print(f\"\\t{r}\")\n",
    "print(f\"For a total of:\\n {perf[0]} points\\n {perf[1]} wins\\n {perf[2]} podiums\")"
   ]
  },
  {
   "cell_type": "code",
   "execution_count": 31,
   "id": "750e4ce5",
   "metadata": {},
   "outputs": [
    {
     "data": {
      "text/html": [
       "<div>\n",
       "<style scoped>\n",
       "    .dataframe tbody tr th:only-of-type {\n",
       "        vertical-align: middle;\n",
       "    }\n",
       "\n",
       "    .dataframe tbody tr th {\n",
       "        vertical-align: top;\n",
       "    }\n",
       "\n",
       "    .dataframe thead th {\n",
       "        text-align: right;\n",
       "    }\n",
       "</style>\n",
       "<table border=\"1\" class=\"dataframe\">\n",
       "  <thead>\n",
       "    <tr style=\"text-align: right;\">\n",
       "      <th></th>\n",
       "      <th>Driver</th>\n",
       "      <th>Team</th>\n",
       "      <th>Race</th>\n",
       "      <th>Country</th>\n",
       "      <th>Position</th>\n",
       "      <th>Points</th>\n",
       "    </tr>\n",
       "  </thead>\n",
       "  <tbody>\n",
       "    <tr>\n",
       "      <th>0</th>\n",
       "      <td>Hamilton</td>\n",
       "      <td>McLaren</td>\n",
       "      <td>Melbourne</td>\n",
       "      <td>Australia</td>\n",
       "      <td>1</td>\n",
       "      <td>10</td>\n",
       "    </tr>\n",
       "    <tr>\n",
       "      <th>1</th>\n",
       "      <td>Massa</td>\n",
       "      <td>Ferrari</td>\n",
       "      <td>Melbourne</td>\n",
       "      <td>Australia</td>\n",
       "      <td>0</td>\n",
       "      <td>0</td>\n",
       "    </tr>\n",
       "    <tr>\n",
       "      <th>2</th>\n",
       "      <td>Raikkonen</td>\n",
       "      <td>Ferrari</td>\n",
       "      <td>Melbourne</td>\n",
       "      <td>Australia</td>\n",
       "      <td>8</td>\n",
       "      <td>1</td>\n",
       "    </tr>\n",
       "    <tr>\n",
       "      <th>3</th>\n",
       "      <td>Kubica</td>\n",
       "      <td>BMW</td>\n",
       "      <td>Melbourne</td>\n",
       "      <td>Australia</td>\n",
       "      <td>0</td>\n",
       "      <td>0</td>\n",
       "    </tr>\n",
       "    <tr>\n",
       "      <th>4</th>\n",
       "      <td>Alonso</td>\n",
       "      <td>Renault</td>\n",
       "      <td>Melbourne</td>\n",
       "      <td>Australia</td>\n",
       "      <td>4</td>\n",
       "      <td>5</td>\n",
       "    </tr>\n",
       "  </tbody>\n",
       "</table>\n",
       "</div>"
      ],
      "text/plain": [
       "      Driver     Team       Race    Country  Position  Points\n",
       "0   Hamilton  McLaren  Melbourne  Australia         1      10\n",
       "1      Massa  Ferrari  Melbourne  Australia         0       0\n",
       "2  Raikkonen  Ferrari  Melbourne  Australia         8       1\n",
       "3     Kubica      BMW  Melbourne  Australia         0       0\n",
       "4     Alonso  Renault  Melbourne  Australia         4       5"
      ]
     },
     "execution_count": 31,
     "metadata": {},
     "output_type": "execute_result"
    }
   ],
   "source": [
    "df.head()"
   ]
  },
  {
   "cell_type": "markdown",
   "id": "08c769f2",
   "metadata": {},
   "source": [
    "# Conclusions\n",
    "\n",
    "The first methodology is good if you need a fast analysis based on a notebook and the goal is to only extract information as asked in the project description. Since there are only the data of the 2008 championship the dataset isn't set as a input in the functions but directly used inside as a global variable. \n",
    "\n",
    "In a more general view the second method allow to model with classes and related functions the whole F1 championship (and even different champioship in different years). In this approach the code can be applied in some .py files to execute and run an analysis on external data loaded."
   ]
  },
  {
   "cell_type": "markdown",
   "id": "8c7fd6de",
   "metadata": {},
   "source": []
  }
 ],
 "metadata": {
  "kernelspec": {
   "display_name": "f1_venv",
   "language": "python",
   "name": "python3"
  },
  "language_info": {
   "codemirror_mode": {
    "name": "ipython",
    "version": 3
   },
   "file_extension": ".py",
   "mimetype": "text/x-python",
   "name": "python",
   "nbconvert_exporter": "python",
   "pygments_lexer": "ipython3",
   "version": "3.12.7"
  }
 },
 "nbformat": 4,
 "nbformat_minor": 5
}
